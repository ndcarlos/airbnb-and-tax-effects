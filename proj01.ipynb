{
 "cells": [
  {
   "cell_type": "code",
   "execution_count": 1,
   "metadata": {
    "deletable": false,
    "editable": false
   },
   "outputs": [],
   "source": [
    "# Initialize Otter\n",
    "import otter\n",
    "grader = otter.Notebook(\"proj01.ipynb\")"
   ]
  },
  {
   "cell_type": "markdown",
   "metadata": {},
   "source": [
    "<table style=\"width: 100%;\" id=\"nb-header\">\n",
    "    <tr style=\"background-color: transparent;\"><td>\n",
    "        <img src=\"https://data-88e.github.io/assets/images/blue_text.png\" width=\"250px\" style=\"margin-left: 0;\" />\n",
    "    </td><td>\n",
    "        <p style=\"text-align: right; font-size: 10pt;\"><strong>Economic Models</strong>, Spring 2022<br>\n",
    "            Dr. Eric Van Dusen <br>\n",
    "        Alan Liang <br>\n",
    "</table>"
   ]
  },
  {
   "cell_type": "markdown",
   "metadata": {
    "cell_id": "00000-2b51d8fd-1560-415f-a313-027398760f4f",
    "tags": []
   },
   "source": [
    "# Project 1: Airbnb\n",
    "\n",
    "In this project, we will empirically examine the fundamental concepts of supply and demand through Airbnb rentals in Boston. We will also analyze the effects of occupancy taxes on the short-term rental market, which was enacted by the Massachusetts state legislature on July 1st, 2019. \n",
    "\n",
    "The project is roughly divided into 3 large parts:\n",
    "- In the first part, you conduct some data processing and create a demand curve from (imputed) Airbnb transactions. \n",
    "- In the second part, you will create a supply for Airbnb listings and determine the market equilibrium.\n",
    "- In the third part, you will examine the effects of the occupancy tax on the market.\n",
    "\n",
    "Throughout the project, you may find it helpful to refer to the first couple [textbook chapters](https://data-88e.github.io/textbook/content/01-demand/index.html) and the Week 2 & 3 lecture slides.  "
   ]
  },
  {
   "cell_type": "code",
   "execution_count": 2,
   "metadata": {},
   "outputs": [],
   "source": [
    "from datascience import *\n",
    "import numpy as np\n",
    "import matplotlib.pyplot as plt\n",
    "import sympy\n",
    "sympy.init_printing(print_builtin=False)\n",
    "solve = lambda x,y: sympy.solve(x-y)[0] if len(sympy.solve(x-y))==1 else \"Not Single Solution\"\n",
    "%matplotlib inline"
   ]
  },
  {
   "cell_type": "markdown",
   "metadata": {},
   "source": [
    "## The Data\n",
    "\n",
    "The data for this project originate from [*Inside Airbnb*](http://insideairbnb.com/), an independent investigatory project that collects and hosts substantial Airbnb data on more than 100 cities around the world. The data collected by *Inside Airbnb* are web-scraped from the Airbnb website on a roughly monthly basis. Although *Inside Airbnb* was originally started by its creators to investigate the effects of Airbnb on affordable housing and exacerbating gentrification, the data are made public for free and open for use. \n",
    "\n",
    "For this project, we will be examining Airbnb transactions and listings 3 months around July 1st, 2019 (i.e. April to September 2019) due to its proximity to the enactment of the occupancy tax. \n",
    "\n",
    "Let's go ahead and load in the dataset `airbnb.csv`."
   ]
  },
  {
   "cell_type": "code",
   "execution_count": 3,
   "metadata": {
    "cell_id": "00002-b44f0794-faa1-4085-8af6-203425d6e0fa",
    "tags": []
   },
   "outputs": [
    {
     "data": {
      "text/html": [
       "<table border=\"1\" class=\"dataframe\">\n",
       "    <thead>\n",
       "        <tr>\n",
       "            <th>month</th> <th>date</th> <th>dow</th> <th>id</th> <th>price</th> <th>neighbourhood</th> <th>room_type</th> <th>master_key</th>\n",
       "        </tr>\n",
       "    </thead>\n",
       "    <tbody>\n",
       "        <tr>\n",
       "            <td>4    </td> <td>1   </td> <td>0   </td> <td>5506</td> <td>145  </td> <td>Roxbury      </td> <td>Entire home/apt</td> <td>1         </td>\n",
       "        </tr>\n",
       "        <tr>\n",
       "            <td>4    </td> <td>2   </td> <td>1   </td> <td>5506</td> <td>145  </td> <td>Roxbury      </td> <td>Entire home/apt</td> <td>1         </td>\n",
       "        </tr>\n",
       "        <tr>\n",
       "            <td>4    </td> <td>3   </td> <td>2   </td> <td>5506</td> <td>145  </td> <td>Roxbury      </td> <td>Entire home/apt</td> <td>1         </td>\n",
       "        </tr>\n",
       "        <tr>\n",
       "            <td>4    </td> <td>4   </td> <td>3   </td> <td>5506</td> <td>145  </td> <td>Roxbury      </td> <td>Entire home/apt</td> <td>1         </td>\n",
       "        </tr>\n",
       "        <tr>\n",
       "            <td>4    </td> <td>5   </td> <td>4   </td> <td>5506</td> <td>145  </td> <td>Roxbury      </td> <td>Entire home/apt</td> <td>1         </td>\n",
       "        </tr>\n",
       "        <tr>\n",
       "            <td>4    </td> <td>6   </td> <td>5   </td> <td>5506</td> <td>145  </td> <td>Roxbury      </td> <td>Entire home/apt</td> <td>1         </td>\n",
       "        </tr>\n",
       "        <tr>\n",
       "            <td>4    </td> <td>7   </td> <td>6   </td> <td>5506</td> <td>145  </td> <td>Roxbury      </td> <td>Entire home/apt</td> <td>1         </td>\n",
       "        </tr>\n",
       "        <tr>\n",
       "            <td>4    </td> <td>8   </td> <td>0   </td> <td>5506</td> <td>145  </td> <td>Roxbury      </td> <td>Entire home/apt</td> <td>1         </td>\n",
       "        </tr>\n",
       "        <tr>\n",
       "            <td>4    </td> <td>9   </td> <td>1   </td> <td>5506</td> <td>145  </td> <td>Roxbury      </td> <td>Entire home/apt</td> <td>1         </td>\n",
       "        </tr>\n",
       "        <tr>\n",
       "            <td>4    </td> <td>10  </td> <td>2   </td> <td>5506</td> <td>145  </td> <td>Roxbury      </td> <td>Entire home/apt</td> <td>2         </td>\n",
       "        </tr>\n",
       "    </tbody>\n",
       "</table>\n",
       "<p>... (162376 rows omitted)</p>"
      ],
      "text/plain": [
       "month | date | dow  | id   | price | neighbourhood | room_type       | master_key\n",
       "4     | 1    | 0    | 5506 | 145   | Roxbury       | Entire home/apt | 1\n",
       "4     | 2    | 1    | 5506 | 145   | Roxbury       | Entire home/apt | 1\n",
       "4     | 3    | 2    | 5506 | 145   | Roxbury       | Entire home/apt | 1\n",
       "4     | 4    | 3    | 5506 | 145   | Roxbury       | Entire home/apt | 1\n",
       "4     | 5    | 4    | 5506 | 145   | Roxbury       | Entire home/apt | 1\n",
       "4     | 6    | 5    | 5506 | 145   | Roxbury       | Entire home/apt | 1\n",
       "4     | 7    | 6    | 5506 | 145   | Roxbury       | Entire home/apt | 1\n",
       "4     | 8    | 0    | 5506 | 145   | Roxbury       | Entire home/apt | 1\n",
       "4     | 9    | 1    | 5506 | 145   | Roxbury       | Entire home/apt | 1\n",
       "4     | 10   | 2    | 5506 | 145   | Roxbury       | Entire home/apt | 2\n",
       "... (162376 rows omitted)"
      ]
     },
     "execution_count": 3,
     "metadata": {},
     "output_type": "execute_result"
    }
   ],
   "source": [
    "boston = Table.read_table(\"airbnb.csv\")\n",
    "boston"
   ]
  },
  {
   "cell_type": "markdown",
   "metadata": {
    "cell_id": "00006-4b56e95e-327a-4d5e-80d2-14164c36c93b",
    "tags": []
   },
   "source": [
    "Each row of `boston` refers to a listing's availability for a particular date. Thus, the *granularity* of the data is on a listing-day level. This is because our 'atomic unit' of transactions (the definition of 1 unit of a good) is on the per listing per night level.\n",
    "\n",
    "The columns of the table are as follows:\n",
    "* The `month` and `date` refer to the month and the day of the month of a unit-night (in 2019). \n",
    "* The `dow` indicates the day of the week, where 0 is Monday, 1 is Tuesday and so on.\n",
    "* The `id` column references the id of the Airbnb unit. Each ID uniquely determines a listing, and every listing only has 1 ID. (You can visit each listing's URL on Airbnb by going to https://www.airbnb.com/rooms/YOUR_ID_HERE with the id to look up the listing on the airbnb website.)\n",
    "* The `price` column shows the price of the listing for the given date.\n",
    "* The `neighbourhood` and `room_type` columns show the neighborhood (within in Boston) and type of unit the accommodation is offered in. \n",
    "* The `master_key` columns contains 2 integer values. \n",
    "    - `1` denotes the situation when a property was offered for rent but **not booked** by a guest.\n",
    "    - `2` denotes the situation when a property was offered for rent and **booked** by a guest.\n",
    "\n",
    "Let's go over an example by taking a look at listing 5506 in the month of April:"
   ]
  },
  {
   "cell_type": "code",
   "execution_count": 4,
   "metadata": {},
   "outputs": [
    {
     "data": {
      "text/html": [
       "<table border=\"1\" class=\"dataframe\">\n",
       "    <thead>\n",
       "        <tr>\n",
       "            <th>month</th> <th>date</th> <th>dow</th> <th>id</th> <th>price</th> <th>neighbourhood</th> <th>room_type</th> <th>master_key</th>\n",
       "        </tr>\n",
       "    </thead>\n",
       "    <tbody>\n",
       "        <tr>\n",
       "            <td>4    </td> <td>1   </td> <td>0   </td> <td>5506</td> <td>145  </td> <td>Roxbury      </td> <td>Entire home/apt</td> <td>1         </td>\n",
       "        </tr>\n",
       "        <tr>\n",
       "            <td>4    </td> <td>2   </td> <td>1   </td> <td>5506</td> <td>145  </td> <td>Roxbury      </td> <td>Entire home/apt</td> <td>1         </td>\n",
       "        </tr>\n",
       "        <tr>\n",
       "            <td>4    </td> <td>3   </td> <td>2   </td> <td>5506</td> <td>145  </td> <td>Roxbury      </td> <td>Entire home/apt</td> <td>1         </td>\n",
       "        </tr>\n",
       "        <tr>\n",
       "            <td>4    </td> <td>4   </td> <td>3   </td> <td>5506</td> <td>145  </td> <td>Roxbury      </td> <td>Entire home/apt</td> <td>1         </td>\n",
       "        </tr>\n",
       "        <tr>\n",
       "            <td>4    </td> <td>5   </td> <td>4   </td> <td>5506</td> <td>145  </td> <td>Roxbury      </td> <td>Entire home/apt</td> <td>1         </td>\n",
       "        </tr>\n",
       "        <tr>\n",
       "            <td>4    </td> <td>6   </td> <td>5   </td> <td>5506</td> <td>145  </td> <td>Roxbury      </td> <td>Entire home/apt</td> <td>1         </td>\n",
       "        </tr>\n",
       "        <tr>\n",
       "            <td>4    </td> <td>7   </td> <td>6   </td> <td>5506</td> <td>145  </td> <td>Roxbury      </td> <td>Entire home/apt</td> <td>1         </td>\n",
       "        </tr>\n",
       "        <tr>\n",
       "            <td>4    </td> <td>8   </td> <td>0   </td> <td>5506</td> <td>145  </td> <td>Roxbury      </td> <td>Entire home/apt</td> <td>1         </td>\n",
       "        </tr>\n",
       "        <tr>\n",
       "            <td>4    </td> <td>9   </td> <td>1   </td> <td>5506</td> <td>145  </td> <td>Roxbury      </td> <td>Entire home/apt</td> <td>1         </td>\n",
       "        </tr>\n",
       "        <tr>\n",
       "            <td>4    </td> <td>10  </td> <td>2   </td> <td>5506</td> <td>145  </td> <td>Roxbury      </td> <td>Entire home/apt</td> <td>2         </td>\n",
       "        </tr>\n",
       "    </tbody>\n",
       "</table>\n",
       "<p>... (20 rows omitted)</p>"
      ],
      "text/plain": [
       "month | date | dow  | id   | price | neighbourhood | room_type       | master_key\n",
       "4     | 1    | 0    | 5506 | 145   | Roxbury       | Entire home/apt | 1\n",
       "4     | 2    | 1    | 5506 | 145   | Roxbury       | Entire home/apt | 1\n",
       "4     | 3    | 2    | 5506 | 145   | Roxbury       | Entire home/apt | 1\n",
       "4     | 4    | 3    | 5506 | 145   | Roxbury       | Entire home/apt | 1\n",
       "4     | 5    | 4    | 5506 | 145   | Roxbury       | Entire home/apt | 1\n",
       "4     | 6    | 5    | 5506 | 145   | Roxbury       | Entire home/apt | 1\n",
       "4     | 7    | 6    | 5506 | 145   | Roxbury       | Entire home/apt | 1\n",
       "4     | 8    | 0    | 5506 | 145   | Roxbury       | Entire home/apt | 1\n",
       "4     | 9    | 1    | 5506 | 145   | Roxbury       | Entire home/apt | 1\n",
       "4     | 10   | 2    | 5506 | 145   | Roxbury       | Entire home/apt | 2\n",
       "... (20 rows omitted)"
      ]
     },
     "execution_count": 4,
     "metadata": {},
     "output_type": "execute_result"
    }
   ],
   "source": [
    "boston.where(\"id\", 5506).where('month', 4)"
   ]
  },
  {
   "cell_type": "markdown",
   "metadata": {},
   "source": [
    "Looking at the first row, we see that it refers to listing 5506, which you can check out on Airbnb [here](https://www.airbnb.com/rooms/5506). This row corresponds to April 1st, 2019, which was a Monday. The price that night was \\\\$145. The unit is located in the Roxbury neighborhood and is an entire home or apartment. Lastly, the unit was not occupied by a guest on April 1st, 2019. "
   ]
  },
  {
   "cell_type": "markdown",
   "metadata": {},
   "source": [
    "Lastly, before we get started, it is also a good idea to keep in mind the idea of *implicit costs*: hosts can decide to block out a set of dates on their calendar and not rent out the listing at all on those dates. As economists we will assume that intentionally not renting out a unit is associated with an opportunity cost and can thus be considered as some sort of *implicit demand*.\n",
    "\n",
    "For example, the listing with ID `442735` did not offer the unit for quite a few nights in the month of April. \n",
    "This reflects the opportunity cost of hosts for not renting for a night, and consuming the product themselves. "
   ]
  },
  {
   "cell_type": "code",
   "execution_count": 5,
   "metadata": {
    "cell_id": "00008-d6b1e288-27d3-47a5-99a9-952a39bc52af",
    "tags": []
   },
   "outputs": [
    {
     "data": {
      "text/html": [
       "<table border=\"1\" class=\"dataframe\">\n",
       "    <thead>\n",
       "        <tr>\n",
       "            <th>month</th> <th>date</th> <th>dow</th> <th>id</th> <th>price</th> <th>neighbourhood</th> <th>room_type</th> <th>master_key</th>\n",
       "        </tr>\n",
       "    </thead>\n",
       "    <tbody>\n",
       "        <tr>\n",
       "            <td>4    </td> <td>12  </td> <td>4   </td> <td>442735</td> <td>800  </td> <td>South End    </td> <td>Entire home/apt</td> <td>2         </td>\n",
       "        </tr>\n",
       "        <tr>\n",
       "            <td>4    </td> <td>13  </td> <td>5   </td> <td>442735</td> <td>800  </td> <td>South End    </td> <td>Entire home/apt</td> <td>2         </td>\n",
       "        </tr>\n",
       "        <tr>\n",
       "            <td>4    </td> <td>14  </td> <td>6   </td> <td>442735</td> <td>800  </td> <td>South End    </td> <td>Entire home/apt</td> <td>2         </td>\n",
       "        </tr>\n",
       "        <tr>\n",
       "            <td>4    </td> <td>15  </td> <td>0   </td> <td>442735</td> <td>800  </td> <td>South End    </td> <td>Entire home/apt</td> <td>2         </td>\n",
       "        </tr>\n",
       "        <tr>\n",
       "            <td>4    </td> <td>16  </td> <td>1   </td> <td>442735</td> <td>800  </td> <td>South End    </td> <td>Entire home/apt</td> <td>2         </td>\n",
       "        </tr>\n",
       "        <tr>\n",
       "            <td>4    </td> <td>17  </td> <td>2   </td> <td>442735</td> <td>350  </td> <td>South End    </td> <td>Entire home/apt</td> <td>2         </td>\n",
       "        </tr>\n",
       "        <tr>\n",
       "            <td>4    </td> <td>18  </td> <td>3   </td> <td>442735</td> <td>350  </td> <td>South End    </td> <td>Entire home/apt</td> <td>2         </td>\n",
       "        </tr>\n",
       "        <tr>\n",
       "            <td>4    </td> <td>19  </td> <td>4   </td> <td>442735</td> <td>350  </td> <td>South End    </td> <td>Entire home/apt</td> <td>2         </td>\n",
       "        </tr>\n",
       "        <tr>\n",
       "            <td>4    </td> <td>20  </td> <td>5   </td> <td>442735</td> <td>350  </td> <td>South End    </td> <td>Entire home/apt</td> <td>2         </td>\n",
       "        </tr>\n",
       "    </tbody>\n",
       "</table>"
      ],
      "text/plain": [
       "month | date | dow  | id     | price | neighbourhood | room_type       | master_key\n",
       "4     | 12   | 4    | 442735 | 800   | South End     | Entire home/apt | 2\n",
       "4     | 13   | 5    | 442735 | 800   | South End     | Entire home/apt | 2\n",
       "4     | 14   | 6    | 442735 | 800   | South End     | Entire home/apt | 2\n",
       "4     | 15   | 0    | 442735 | 800   | South End     | Entire home/apt | 2\n",
       "4     | 16   | 1    | 442735 | 800   | South End     | Entire home/apt | 2\n",
       "4     | 17   | 2    | 442735 | 350   | South End     | Entire home/apt | 2\n",
       "4     | 18   | 3    | 442735 | 350   | South End     | Entire home/apt | 2\n",
       "4     | 19   | 4    | 442735 | 350   | South End     | Entire home/apt | 2\n",
       "4     | 20   | 5    | 442735 | 350   | South End     | Entire home/apt | 2"
      ]
     },
     "execution_count": 5,
     "metadata": {},
     "output_type": "execute_result"
    }
   ],
   "source": [
    "boston.where(\"id\", 442735).where('month', 4)"
   ]
  },
  {
   "cell_type": "markdown",
   "metadata": {
    "cell_id": "00010-ced5c4c9-f843-4c26-8b00-15358caa2a8d",
    "tags": []
   },
   "source": [
    "## Preprocessing the Data"
   ]
  },
  {
   "cell_type": "markdown",
   "metadata": {
    "cell_id": "00008-d10af2e5-c31d-4e5d-b7a8-415cbb196b3f",
    "tags": []
   },
   "source": [
    "In the perfect world, supply and demand curves denote the quantity demanded and supplied at different prices for *homogeneous goods*, i.e. goods that are basically the same all factors considered. The examples we've covered so far, such as electricity or beef, fit this definition well, but Airbnb units (and their associated dates) are typically quite diverse. This casts a little bit of uncertainty in generalizing our results, but we'll try our best to control for certain factors.\n",
    "\n",
    "Let's start with an obvious difference: some Airbnb listings are private rooms, some are entire homes/apartments, and some are shared rooms. Conceivably, the type of Airbnb a listing will attract a different set of guests and be offered at different price points. "
   ]
  },
  {
   "cell_type": "markdown",
   "metadata": {
    "deletable": false,
    "editable": false
   },
   "source": [
    "**Question 1.1**: Let's restrict our analysis to only listings that entire homes or apartments; it turns out that a majority of the properties are of either entire homes or entire apartments. Save your results to `boston_q1_1` table, using the previous `boston` table.\n",
    "\n",
    "<!--\n",
    "BEGIN QUESTION\n",
    "name: q1_1\n",
    "-->"
   ]
  },
  {
   "cell_type": "code",
   "execution_count": 6,
   "metadata": {
    "cell_id": "00004-858c1878-e8c9-4843-be07-d01a86b1a947",
    "tags": []
   },
   "outputs": [
    {
     "data": {
      "text/html": [
       "<table border=\"1\" class=\"dataframe\">\n",
       "    <thead>\n",
       "        <tr>\n",
       "            <th>month</th> <th>date</th> <th>dow</th> <th>id</th> <th>price</th> <th>neighbourhood</th> <th>room_type</th> <th>master_key</th>\n",
       "        </tr>\n",
       "    </thead>\n",
       "    <tbody>\n",
       "        <tr>\n",
       "            <td>4    </td> <td>1   </td> <td>0   </td> <td>5506</td> <td>145  </td> <td>Roxbury      </td> <td>Entire home/apt</td> <td>1         </td>\n",
       "        </tr>\n",
       "        <tr>\n",
       "            <td>4    </td> <td>2   </td> <td>1   </td> <td>5506</td> <td>145  </td> <td>Roxbury      </td> <td>Entire home/apt</td> <td>1         </td>\n",
       "        </tr>\n",
       "        <tr>\n",
       "            <td>4    </td> <td>3   </td> <td>2   </td> <td>5506</td> <td>145  </td> <td>Roxbury      </td> <td>Entire home/apt</td> <td>1         </td>\n",
       "        </tr>\n",
       "        <tr>\n",
       "            <td>4    </td> <td>4   </td> <td>3   </td> <td>5506</td> <td>145  </td> <td>Roxbury      </td> <td>Entire home/apt</td> <td>1         </td>\n",
       "        </tr>\n",
       "        <tr>\n",
       "            <td>4    </td> <td>5   </td> <td>4   </td> <td>5506</td> <td>145  </td> <td>Roxbury      </td> <td>Entire home/apt</td> <td>1         </td>\n",
       "        </tr>\n",
       "        <tr>\n",
       "            <td>4    </td> <td>6   </td> <td>5   </td> <td>5506</td> <td>145  </td> <td>Roxbury      </td> <td>Entire home/apt</td> <td>1         </td>\n",
       "        </tr>\n",
       "        <tr>\n",
       "            <td>4    </td> <td>7   </td> <td>6   </td> <td>5506</td> <td>145  </td> <td>Roxbury      </td> <td>Entire home/apt</td> <td>1         </td>\n",
       "        </tr>\n",
       "        <tr>\n",
       "            <td>4    </td> <td>8   </td> <td>0   </td> <td>5506</td> <td>145  </td> <td>Roxbury      </td> <td>Entire home/apt</td> <td>1         </td>\n",
       "        </tr>\n",
       "        <tr>\n",
       "            <td>4    </td> <td>9   </td> <td>1   </td> <td>5506</td> <td>145  </td> <td>Roxbury      </td> <td>Entire home/apt</td> <td>1         </td>\n",
       "        </tr>\n",
       "        <tr>\n",
       "            <td>4    </td> <td>10  </td> <td>2   </td> <td>5506</td> <td>145  </td> <td>Roxbury      </td> <td>Entire home/apt</td> <td>2         </td>\n",
       "        </tr>\n",
       "    </tbody>\n",
       "</table>\n",
       "<p>... (119103 rows omitted)</p>"
      ],
      "text/plain": [
       "month | date | dow  | id   | price | neighbourhood | room_type       | master_key\n",
       "4     | 1    | 0    | 5506 | 145   | Roxbury       | Entire home/apt | 1\n",
       "4     | 2    | 1    | 5506 | 145   | Roxbury       | Entire home/apt | 1\n",
       "4     | 3    | 2    | 5506 | 145   | Roxbury       | Entire home/apt | 1\n",
       "4     | 4    | 3    | 5506 | 145   | Roxbury       | Entire home/apt | 1\n",
       "4     | 5    | 4    | 5506 | 145   | Roxbury       | Entire home/apt | 1\n",
       "4     | 6    | 5    | 5506 | 145   | Roxbury       | Entire home/apt | 1\n",
       "4     | 7    | 6    | 5506 | 145   | Roxbury       | Entire home/apt | 1\n",
       "4     | 8    | 0    | 5506 | 145   | Roxbury       | Entire home/apt | 1\n",
       "4     | 9    | 1    | 5506 | 145   | Roxbury       | Entire home/apt | 1\n",
       "4     | 10   | 2    | 5506 | 145   | Roxbury       | Entire home/apt | 2\n",
       "... (119103 rows omitted)"
      ]
     },
     "execution_count": 6,
     "metadata": {},
     "output_type": "execute_result"
    }
   ],
   "source": [
    "boston_q1_1 = boston.where(\"room_type\", are.equal_to(\"Entire home/apt\"))\n",
    "boston_q1_1"
   ]
  },
  {
   "cell_type": "code",
   "execution_count": 7,
   "metadata": {
    "deletable": false,
    "editable": false
   },
   "outputs": [
    {
     "data": {
      "text/html": [
       "<p><strong><pre style='display: inline;'>q1_1</pre></strong> passed!</p>"
      ],
      "text/plain": [
       "q1_1 results: All test cases passed!"
      ]
     },
     "execution_count": 7,
     "metadata": {},
     "output_type": "execute_result"
    }
   ],
   "source": [
    "grader.check(\"q1_1\")"
   ]
  },
  {
   "cell_type": "markdown",
   "metadata": {
    "cell_id": "00010-18aeae96-28e2-473f-b037-dc1f7594a6b3",
    "deletable": false,
    "editable": false,
    "tags": []
   },
   "source": [
    "**Question 1.2**: In addition, it is conceivable that prices and the types of consumers are substantially different between weekdays and weekends, implying ultimately different types of goods. Let's restrict our analysis further to account for the day of the week by focusing on Friday and Saturday. Save your results to the same `boston_q1_2` table, using the previous `boston_q1_1` table.\n",
    "\n",
    "_Hint:_ How are weekday values encoded in the `dow` column?\n",
    "\n",
    "<!--\n",
    "BEGIN QUESTION\n",
    "name: q1_2\n",
    "-->"
   ]
  },
  {
   "cell_type": "code",
   "execution_count": 8,
   "metadata": {
    "cell_id": "00005-ecf5f60c-d622-417c-b995-966974a52730",
    "tags": []
   },
   "outputs": [
    {
     "data": {
      "text/html": [
       "<table border=\"1\" class=\"dataframe\">\n",
       "    <thead>\n",
       "        <tr>\n",
       "            <th>month</th> <th>date</th> <th>dow</th> <th>id</th> <th>price</th> <th>neighbourhood</th> <th>room_type</th> <th>master_key</th>\n",
       "        </tr>\n",
       "    </thead>\n",
       "    <tbody>\n",
       "        <tr>\n",
       "            <td>4    </td> <td>5   </td> <td>4   </td> <td>5506</td> <td>145  </td> <td>Roxbury      </td> <td>Entire home/apt</td> <td>1         </td>\n",
       "        </tr>\n",
       "        <tr>\n",
       "            <td>4    </td> <td>6   </td> <td>5   </td> <td>5506</td> <td>145  </td> <td>Roxbury      </td> <td>Entire home/apt</td> <td>1         </td>\n",
       "        </tr>\n",
       "        <tr>\n",
       "            <td>4    </td> <td>12  </td> <td>4   </td> <td>5506</td> <td>250  </td> <td>Roxbury      </td> <td>Entire home/apt</td> <td>2         </td>\n",
       "        </tr>\n",
       "        <tr>\n",
       "            <td>4    </td> <td>13  </td> <td>5   </td> <td>5506</td> <td>250  </td> <td>Roxbury      </td> <td>Entire home/apt</td> <td>2         </td>\n",
       "        </tr>\n",
       "        <tr>\n",
       "            <td>4    </td> <td>19  </td> <td>4   </td> <td>5506</td> <td>145  </td> <td>Roxbury      </td> <td>Entire home/apt</td> <td>2         </td>\n",
       "        </tr>\n",
       "        <tr>\n",
       "            <td>4    </td> <td>20  </td> <td>5   </td> <td>5506</td> <td>145  </td> <td>Roxbury      </td> <td>Entire home/apt</td> <td>2         </td>\n",
       "        </tr>\n",
       "        <tr>\n",
       "            <td>4    </td> <td>26  </td> <td>4   </td> <td>5506</td> <td>145  </td> <td>Roxbury      </td> <td>Entire home/apt</td> <td>1         </td>\n",
       "        </tr>\n",
       "        <tr>\n",
       "            <td>4    </td> <td>27  </td> <td>5   </td> <td>5506</td> <td>145  </td> <td>Roxbury      </td> <td>Entire home/apt</td> <td>1         </td>\n",
       "        </tr>\n",
       "        <tr>\n",
       "            <td>5    </td> <td>3   </td> <td>4   </td> <td>5506</td> <td>145  </td> <td>Roxbury      </td> <td>Entire home/apt</td> <td>2         </td>\n",
       "        </tr>\n",
       "        <tr>\n",
       "            <td>5    </td> <td>4   </td> <td>5   </td> <td>5506</td> <td>145  </td> <td>Roxbury      </td> <td>Entire home/apt</td> <td>2         </td>\n",
       "        </tr>\n",
       "    </tbody>\n",
       "</table>\n",
       "<p>... (33307 rows omitted)</p>"
      ],
      "text/plain": [
       "month | date | dow  | id   | price | neighbourhood | room_type       | master_key\n",
       "4     | 5    | 4    | 5506 | 145   | Roxbury       | Entire home/apt | 1\n",
       "4     | 6    | 5    | 5506 | 145   | Roxbury       | Entire home/apt | 1\n",
       "4     | 12   | 4    | 5506 | 250   | Roxbury       | Entire home/apt | 2\n",
       "4     | 13   | 5    | 5506 | 250   | Roxbury       | Entire home/apt | 2\n",
       "4     | 19   | 4    | 5506 | 145   | Roxbury       | Entire home/apt | 2\n",
       "4     | 20   | 5    | 5506 | 145   | Roxbury       | Entire home/apt | 2\n",
       "4     | 26   | 4    | 5506 | 145   | Roxbury       | Entire home/apt | 1\n",
       "4     | 27   | 5    | 5506 | 145   | Roxbury       | Entire home/apt | 1\n",
       "5     | 3    | 4    | 5506 | 145   | Roxbury       | Entire home/apt | 2\n",
       "5     | 4    | 5    | 5506 | 145   | Roxbury       | Entire home/apt | 2\n",
       "... (33307 rows omitted)"
      ]
     },
     "execution_count": 8,
     "metadata": {},
     "output_type": "execute_result"
    }
   ],
   "source": [
    "boston_q1_2 = boston_q1_1.where('dow', are.between_or_equal_to(4,5))\n",
    "boston_q1_2"
   ]
  },
  {
   "cell_type": "code",
   "execution_count": 9,
   "metadata": {
    "deletable": false,
    "editable": false
   },
   "outputs": [
    {
     "data": {
      "text/html": [
       "<p><strong><pre style='display: inline;'>q1_2</pre></strong> passed!</p>"
      ],
      "text/plain": [
       "q1_2 results: All test cases passed!"
      ]
     },
     "execution_count": 9,
     "metadata": {},
     "output_type": "execute_result"
    }
   ],
   "source": [
    "grader.check(\"q1_2\")"
   ]
  },
  {
   "cell_type": "markdown",
   "metadata": {
    "cell_id": "00012-88914f7a-873d-4d98-8597-dc862adb1ac8",
    "deletable": false,
    "editable": false,
    "tags": []
   },
   "source": [
    "**Question 1.3**: To remove outliers, let's also remove listing nights in which the per-night price was \\\\$1000 or greater. Save your results to the `boston_q1_3` table, using the previous`boston_q1_2` table.\n",
    "\n",
    "<!--\n",
    "BEGIN QUESTION\n",
    "name: q1_3\n",
    "-->"
   ]
  },
  {
   "cell_type": "code",
   "execution_count": 10,
   "metadata": {
    "cell_id": "00006-bb49228c-7e68-4ec0-8683-063c5c74cfad",
    "tags": []
   },
   "outputs": [
    {
     "data": {
      "text/html": [
       "<table border=\"1\" class=\"dataframe\">\n",
       "    <thead>\n",
       "        <tr>\n",
       "            <th>month</th> <th>date</th> <th>dow</th> <th>id</th> <th>price</th> <th>neighbourhood</th> <th>room_type</th> <th>master_key</th>\n",
       "        </tr>\n",
       "    </thead>\n",
       "    <tbody>\n",
       "        <tr>\n",
       "            <td>4    </td> <td>5   </td> <td>4   </td> <td>5506</td> <td>145  </td> <td>Roxbury      </td> <td>Entire home/apt</td> <td>1         </td>\n",
       "        </tr>\n",
       "        <tr>\n",
       "            <td>4    </td> <td>6   </td> <td>5   </td> <td>5506</td> <td>145  </td> <td>Roxbury      </td> <td>Entire home/apt</td> <td>1         </td>\n",
       "        </tr>\n",
       "        <tr>\n",
       "            <td>4    </td> <td>12  </td> <td>4   </td> <td>5506</td> <td>250  </td> <td>Roxbury      </td> <td>Entire home/apt</td> <td>2         </td>\n",
       "        </tr>\n",
       "        <tr>\n",
       "            <td>4    </td> <td>13  </td> <td>5   </td> <td>5506</td> <td>250  </td> <td>Roxbury      </td> <td>Entire home/apt</td> <td>2         </td>\n",
       "        </tr>\n",
       "        <tr>\n",
       "            <td>4    </td> <td>19  </td> <td>4   </td> <td>5506</td> <td>145  </td> <td>Roxbury      </td> <td>Entire home/apt</td> <td>2         </td>\n",
       "        </tr>\n",
       "        <tr>\n",
       "            <td>4    </td> <td>20  </td> <td>5   </td> <td>5506</td> <td>145  </td> <td>Roxbury      </td> <td>Entire home/apt</td> <td>2         </td>\n",
       "        </tr>\n",
       "        <tr>\n",
       "            <td>4    </td> <td>26  </td> <td>4   </td> <td>5506</td> <td>145  </td> <td>Roxbury      </td> <td>Entire home/apt</td> <td>1         </td>\n",
       "        </tr>\n",
       "        <tr>\n",
       "            <td>4    </td> <td>27  </td> <td>5   </td> <td>5506</td> <td>145  </td> <td>Roxbury      </td> <td>Entire home/apt</td> <td>1         </td>\n",
       "        </tr>\n",
       "        <tr>\n",
       "            <td>5    </td> <td>3   </td> <td>4   </td> <td>5506</td> <td>145  </td> <td>Roxbury      </td> <td>Entire home/apt</td> <td>2         </td>\n",
       "        </tr>\n",
       "        <tr>\n",
       "            <td>5    </td> <td>4   </td> <td>5   </td> <td>5506</td> <td>145  </td> <td>Roxbury      </td> <td>Entire home/apt</td> <td>2         </td>\n",
       "        </tr>\n",
       "    </tbody>\n",
       "</table>\n",
       "<p>... (32263 rows omitted)</p>"
      ],
      "text/plain": [
       "month | date | dow  | id   | price | neighbourhood | room_type       | master_key\n",
       "4     | 5    | 4    | 5506 | 145   | Roxbury       | Entire home/apt | 1\n",
       "4     | 6    | 5    | 5506 | 145   | Roxbury       | Entire home/apt | 1\n",
       "4     | 12   | 4    | 5506 | 250   | Roxbury       | Entire home/apt | 2\n",
       "4     | 13   | 5    | 5506 | 250   | Roxbury       | Entire home/apt | 2\n",
       "4     | 19   | 4    | 5506 | 145   | Roxbury       | Entire home/apt | 2\n",
       "4     | 20   | 5    | 5506 | 145   | Roxbury       | Entire home/apt | 2\n",
       "4     | 26   | 4    | 5506 | 145   | Roxbury       | Entire home/apt | 1\n",
       "4     | 27   | 5    | 5506 | 145   | Roxbury       | Entire home/apt | 1\n",
       "5     | 3    | 4    | 5506 | 145   | Roxbury       | Entire home/apt | 2\n",
       "5     | 4    | 5    | 5506 | 145   | Roxbury       | Entire home/apt | 2\n",
       "... (32263 rows omitted)"
      ]
     },
     "execution_count": 10,
     "metadata": {},
     "output_type": "execute_result"
    }
   ],
   "source": [
    "boston_q1_3 = boston_q1_2.where('price', are.below(1000))\n",
    "boston_q1_3"
   ]
  },
  {
   "cell_type": "code",
   "execution_count": 11,
   "metadata": {
    "deletable": false,
    "editable": false
   },
   "outputs": [
    {
     "data": {
      "text/html": [
       "<p><strong><pre style='display: inline;'>q1_3</pre></strong> passed!</p>"
      ],
      "text/plain": [
       "q1_3 results: All test cases passed!"
      ]
     },
     "execution_count": 11,
     "metadata": {},
     "output_type": "execute_result"
    }
   ],
   "source": [
    "grader.check(\"q1_3\")"
   ]
  },
  {
   "cell_type": "markdown",
   "metadata": {
    "deletable": false,
    "editable": false
   },
   "source": [
    "<!-- BEGIN QUESTION -->\n",
    "\n",
    "**Question 1.4**: What other factors may differ across Airbnb listings? This is an open ended question, so points will be awarded on answers that indicate effort and are reasonably justified. Note that these factors do not have to exist in the given columns.\n",
    "\n",
    "<!--\n",
    "BEGIN QUESTION\n",
    "name: q1_4\n",
    "manual: true\n",
    "-->"
   ]
  },
  {
   "cell_type": "markdown",
   "metadata": {},
   "source": [
    "Some factors that can differ across Airbnb listings are the neighborhoods where more desireable or centrally located neighborhoods will likely be more expensive. Also closeness to event spaces like sports arenas, concert venues, etc. will probably be more expensive on nights of events. During the summer places closer to the sea may be more expensive as well."
   ]
  },
  {
   "cell_type": "markdown",
   "metadata": {
    "cell_id": "00020-e3ee0372-dedf-44e8-aadb-4f566f0966fa",
    "deletable": false,
    "editable": false,
    "tags": []
   },
   "source": [
    "<!-- END QUESTION -->\n",
    "\n",
    "**Question 1.5**: We will split our analysis in two periods: before and after the tax. Create a table called `boston_pre`, using the `boston_q1_3` table, that contains all listing-nights observations before the occupancy tax, which came into effect on July 1st, 2019.\n",
    "\n",
    "<!--\n",
    "BEGIN QUESTION\n",
    "name: q1_5\n",
    "-->"
   ]
  },
  {
   "cell_type": "code",
   "execution_count": 12,
   "metadata": {
    "cell_id": "00019-0f002245-2b5d-46cb-a704-66af447fcafe",
    "tags": []
   },
   "outputs": [
    {
     "data": {
      "text/html": [
       "<table border=\"1\" class=\"dataframe\">\n",
       "    <thead>\n",
       "        <tr>\n",
       "            <th>month</th> <th>date</th> <th>dow</th> <th>id</th> <th>price</th> <th>neighbourhood</th> <th>room_type</th> <th>master_key</th>\n",
       "        </tr>\n",
       "    </thead>\n",
       "    <tbody>\n",
       "        <tr>\n",
       "            <td>4    </td> <td>5   </td> <td>4   </td> <td>5506</td> <td>145  </td> <td>Roxbury      </td> <td>Entire home/apt</td> <td>1         </td>\n",
       "        </tr>\n",
       "        <tr>\n",
       "            <td>4    </td> <td>6   </td> <td>5   </td> <td>5506</td> <td>145  </td> <td>Roxbury      </td> <td>Entire home/apt</td> <td>1         </td>\n",
       "        </tr>\n",
       "        <tr>\n",
       "            <td>4    </td> <td>12  </td> <td>4   </td> <td>5506</td> <td>250  </td> <td>Roxbury      </td> <td>Entire home/apt</td> <td>2         </td>\n",
       "        </tr>\n",
       "        <tr>\n",
       "            <td>4    </td> <td>13  </td> <td>5   </td> <td>5506</td> <td>250  </td> <td>Roxbury      </td> <td>Entire home/apt</td> <td>2         </td>\n",
       "        </tr>\n",
       "        <tr>\n",
       "            <td>4    </td> <td>19  </td> <td>4   </td> <td>5506</td> <td>145  </td> <td>Roxbury      </td> <td>Entire home/apt</td> <td>2         </td>\n",
       "        </tr>\n",
       "        <tr>\n",
       "            <td>4    </td> <td>20  </td> <td>5   </td> <td>5506</td> <td>145  </td> <td>Roxbury      </td> <td>Entire home/apt</td> <td>2         </td>\n",
       "        </tr>\n",
       "        <tr>\n",
       "            <td>4    </td> <td>26  </td> <td>4   </td> <td>5506</td> <td>145  </td> <td>Roxbury      </td> <td>Entire home/apt</td> <td>1         </td>\n",
       "        </tr>\n",
       "        <tr>\n",
       "            <td>4    </td> <td>27  </td> <td>5   </td> <td>5506</td> <td>145  </td> <td>Roxbury      </td> <td>Entire home/apt</td> <td>1         </td>\n",
       "        </tr>\n",
       "        <tr>\n",
       "            <td>5    </td> <td>3   </td> <td>4   </td> <td>5506</td> <td>145  </td> <td>Roxbury      </td> <td>Entire home/apt</td> <td>2         </td>\n",
       "        </tr>\n",
       "        <tr>\n",
       "            <td>5    </td> <td>4   </td> <td>5   </td> <td>5506</td> <td>145  </td> <td>Roxbury      </td> <td>Entire home/apt</td> <td>2         </td>\n",
       "        </tr>\n",
       "    </tbody>\n",
       "</table>\n",
       "<p>... (19904 rows omitted)</p>"
      ],
      "text/plain": [
       "month | date | dow  | id   | price | neighbourhood | room_type       | master_key\n",
       "4     | 5    | 4    | 5506 | 145   | Roxbury       | Entire home/apt | 1\n",
       "4     | 6    | 5    | 5506 | 145   | Roxbury       | Entire home/apt | 1\n",
       "4     | 12   | 4    | 5506 | 250   | Roxbury       | Entire home/apt | 2\n",
       "4     | 13   | 5    | 5506 | 250   | Roxbury       | Entire home/apt | 2\n",
       "4     | 19   | 4    | 5506 | 145   | Roxbury       | Entire home/apt | 2\n",
       "4     | 20   | 5    | 5506 | 145   | Roxbury       | Entire home/apt | 2\n",
       "4     | 26   | 4    | 5506 | 145   | Roxbury       | Entire home/apt | 1\n",
       "4     | 27   | 5    | 5506 | 145   | Roxbury       | Entire home/apt | 1\n",
       "5     | 3    | 4    | 5506 | 145   | Roxbury       | Entire home/apt | 2\n",
       "5     | 4    | 5    | 5506 | 145   | Roxbury       | Entire home/apt | 2\n",
       "... (19904 rows omitted)"
      ]
     },
     "execution_count": 12,
     "metadata": {},
     "output_type": "execute_result"
    }
   ],
   "source": [
    "boston_pre = boston_q1_3.where('month', are.below(7))\n",
    "boston_pre"
   ]
  },
  {
   "cell_type": "code",
   "execution_count": 13,
   "metadata": {
    "deletable": false,
    "editable": false
   },
   "outputs": [
    {
     "data": {
      "text/html": [
       "<p><strong><pre style='display: inline;'>q1_5</pre></strong> passed!</p>"
      ],
      "text/plain": [
       "q1_5 results: All test cases passed!"
      ]
     },
     "execution_count": 13,
     "metadata": {},
     "output_type": "execute_result"
    }
   ],
   "source": [
    "grader.check(\"q1_5\")"
   ]
  },
  {
   "cell_type": "markdown",
   "metadata": {
    "cell_id": "00020-e2cfff40-aae3-4b0e-bd6b-e28f29cec6fe",
    "tags": []
   },
   "source": [
    "## Building the Demand Curve"
   ]
  },
  {
   "cell_type": "markdown",
   "metadata": {
    "cell_id": "00020-f5b223a8-e7a8-4334-93ec-d0d8489cb3c7",
    "tags": []
   },
   "source": [
    "Now that we have controlled for some factors that might cause heterogeneity in our observations, we can go ahead and create the demand curve."
   ]
  },
  {
   "cell_type": "markdown",
   "metadata": {
    "deletable": false,
    "editable": false
   },
   "source": [
    "**Question 2.1**: Filter `boston_pre` for only those rentals that were actually transacted, i.e, where `master_key` is `2`. Assign this table to the name `boston_pre_demand`.\n",
    "\n",
    "<!--\n",
    "BEGIN QUESTION\n",
    "name: q2_1\n",
    "-->"
   ]
  },
  {
   "cell_type": "code",
   "execution_count": 14,
   "metadata": {
    "cell_id": "00020-bf6e1c24-40f5-47d3-a4e2-06f8e40ce95a",
    "tags": []
   },
   "outputs": [
    {
     "data": {
      "text/html": [
       "<table border=\"1\" class=\"dataframe\">\n",
       "    <thead>\n",
       "        <tr>\n",
       "            <th>month</th> <th>date</th> <th>dow</th> <th>id</th> <th>price</th> <th>neighbourhood</th> <th>room_type</th> <th>master_key</th>\n",
       "        </tr>\n",
       "    </thead>\n",
       "    <tbody>\n",
       "        <tr>\n",
       "            <td>4    </td> <td>12  </td> <td>4   </td> <td>5506</td> <td>250  </td> <td>Roxbury      </td> <td>Entire home/apt</td> <td>2         </td>\n",
       "        </tr>\n",
       "        <tr>\n",
       "            <td>4    </td> <td>13  </td> <td>5   </td> <td>5506</td> <td>250  </td> <td>Roxbury      </td> <td>Entire home/apt</td> <td>2         </td>\n",
       "        </tr>\n",
       "        <tr>\n",
       "            <td>4    </td> <td>19  </td> <td>4   </td> <td>5506</td> <td>145  </td> <td>Roxbury      </td> <td>Entire home/apt</td> <td>2         </td>\n",
       "        </tr>\n",
       "        <tr>\n",
       "            <td>4    </td> <td>20  </td> <td>5   </td> <td>5506</td> <td>145  </td> <td>Roxbury      </td> <td>Entire home/apt</td> <td>2         </td>\n",
       "        </tr>\n",
       "        <tr>\n",
       "            <td>5    </td> <td>3   </td> <td>4   </td> <td>5506</td> <td>145  </td> <td>Roxbury      </td> <td>Entire home/apt</td> <td>2         </td>\n",
       "        </tr>\n",
       "        <tr>\n",
       "            <td>5    </td> <td>4   </td> <td>5   </td> <td>5506</td> <td>145  </td> <td>Roxbury      </td> <td>Entire home/apt</td> <td>2         </td>\n",
       "        </tr>\n",
       "        <tr>\n",
       "            <td>5    </td> <td>10  </td> <td>4   </td> <td>5506</td> <td>145  </td> <td>Roxbury      </td> <td>Entire home/apt</td> <td>2         </td>\n",
       "        </tr>\n",
       "        <tr>\n",
       "            <td>5    </td> <td>11  </td> <td>5   </td> <td>5506</td> <td>145  </td> <td>Roxbury      </td> <td>Entire home/apt</td> <td>2         </td>\n",
       "        </tr>\n",
       "        <tr>\n",
       "            <td>5    </td> <td>24  </td> <td>4   </td> <td>5506</td> <td>145  </td> <td>Roxbury      </td> <td>Entire home/apt</td> <td>2         </td>\n",
       "        </tr>\n",
       "        <tr>\n",
       "            <td>5    </td> <td>25  </td> <td>5   </td> <td>5506</td> <td>145  </td> <td>Roxbury      </td> <td>Entire home/apt</td> <td>2         </td>\n",
       "        </tr>\n",
       "    </tbody>\n",
       "</table>\n",
       "<p>... (9902 rows omitted)</p>"
      ],
      "text/plain": [
       "month | date | dow  | id   | price | neighbourhood | room_type       | master_key\n",
       "4     | 12   | 4    | 5506 | 250   | Roxbury       | Entire home/apt | 2\n",
       "4     | 13   | 5    | 5506 | 250   | Roxbury       | Entire home/apt | 2\n",
       "4     | 19   | 4    | 5506 | 145   | Roxbury       | Entire home/apt | 2\n",
       "4     | 20   | 5    | 5506 | 145   | Roxbury       | Entire home/apt | 2\n",
       "5     | 3    | 4    | 5506 | 145   | Roxbury       | Entire home/apt | 2\n",
       "5     | 4    | 5    | 5506 | 145   | Roxbury       | Entire home/apt | 2\n",
       "5     | 10   | 4    | 5506 | 145   | Roxbury       | Entire home/apt | 2\n",
       "5     | 11   | 5    | 5506 | 145   | Roxbury       | Entire home/apt | 2\n",
       "5     | 24   | 4    | 5506 | 145   | Roxbury       | Entire home/apt | 2\n",
       "5     | 25   | 5    | 5506 | 145   | Roxbury       | Entire home/apt | 2\n",
       "... (9902 rows omitted)"
      ]
     },
     "execution_count": 14,
     "metadata": {},
     "output_type": "execute_result"
    }
   ],
   "source": [
    "boston_pre_demand = boston_pre.where('master_key', are.equal_to(2))\n",
    "boston_pre_demand"
   ]
  },
  {
   "cell_type": "code",
   "execution_count": 15,
   "metadata": {
    "deletable": false,
    "editable": false
   },
   "outputs": [
    {
     "data": {
      "text/html": [
       "<p><strong><pre style='display: inline;'>q2_1</pre></strong> passed!</p>"
      ],
      "text/plain": [
       "q2_1 results: All test cases passed!"
      ]
     },
     "execution_count": 15,
     "metadata": {},
     "output_type": "execute_result"
    }
   ],
   "source": [
    "grader.check(\"q2_1\")"
   ]
  },
  {
   "cell_type": "markdown",
   "metadata": {
    "cell_id": "00014-a4347724-060a-4a6e-8ec8-90f0ddfd1b2f",
    "tags": []
   },
   "source": [
    "The supply and demand curve show the number of consumers who are willing to purchase a good and the number of goods the producer is willing to produce at any price. However, prices are often noisy and each producer is able to set their own price, making it difficult to account for demand properly at each individual price.\n",
    "\n",
    "One solution is to group the prices into bins by using the [`tbl.bin(...)`](http://data8.org/datascience/_autosummary/datascience.tables.Table.bin.html) method. We know that this function is new and will not be covered in Data 8, so here is an example of what `tbl.bin` does."
   ]
  },
  {
   "cell_type": "code",
   "execution_count": 16,
   "metadata": {},
   "outputs": [
    {
     "data": {
      "text/html": [
       "<table border=\"1\" class=\"dataframe\">\n",
       "    <thead>\n",
       "        <tr>\n",
       "            <th>fruits</th> <th>price</th>\n",
       "        </tr>\n",
       "    </thead>\n",
       "    <tbody>\n",
       "        <tr>\n",
       "            <td>apples      </td> <td>1    </td>\n",
       "        </tr>\n",
       "        <tr>\n",
       "            <td>pears       </td> <td>2    </td>\n",
       "        </tr>\n",
       "        <tr>\n",
       "            <td>bananas     </td> <td>1    </td>\n",
       "        </tr>\n",
       "        <tr>\n",
       "            <td>cherries    </td> <td>3    </td>\n",
       "        </tr>\n",
       "        <tr>\n",
       "            <td>dragonfruit </td> <td>5    </td>\n",
       "        </tr>\n",
       "        <tr>\n",
       "            <td>mangoes     </td> <td>6    </td>\n",
       "        </tr>\n",
       "        <tr>\n",
       "            <td>strawberries</td> <td>12   </td>\n",
       "        </tr>\n",
       "    </tbody>\n",
       "</table>"
      ],
      "text/plain": [
       "fruits       | price\n",
       "apples       | 1\n",
       "pears        | 2\n",
       "bananas      | 1\n",
       "cherries     | 3\n",
       "dragonfruit  | 5\n",
       "mangoes      | 6\n",
       "strawberries | 12"
      ]
     },
     "execution_count": 16,
     "metadata": {},
     "output_type": "execute_result"
    }
   ],
   "source": [
    "# Create an example table\n",
    "example_tbl = Table().with_columns(\n",
    "    \"fruits\", make_array(\"apples\", \"pears\", \"bananas\", \"cherries\", \"dragonfruit\", \"mangoes\", \"strawberries\"),\n",
    "    \"price\", make_array(1, 2, 1, 3, 5, 6, 12)\n",
    ")\n",
    "example_tbl"
   ]
  },
  {
   "cell_type": "code",
   "execution_count": 17,
   "metadata": {},
   "outputs": [
    {
     "data": {
      "text/html": [
       "<table border=\"1\" class=\"dataframe\">\n",
       "    <thead>\n",
       "        <tr>\n",
       "            <th>bin</th> <th>price count</th>\n",
       "        </tr>\n",
       "    </thead>\n",
       "    <tbody>\n",
       "        <tr>\n",
       "            <td>0   </td> <td>4          </td>\n",
       "        </tr>\n",
       "        <tr>\n",
       "            <td>5   </td> <td>2          </td>\n",
       "        </tr>\n",
       "        <tr>\n",
       "            <td>10  </td> <td>1          </td>\n",
       "        </tr>\n",
       "        <tr>\n",
       "            <td>15  </td> <td>0          </td>\n",
       "        </tr>\n",
       "    </tbody>\n",
       "</table>"
      ],
      "text/plain": [
       "bin  | price count\n",
       "0    | 4\n",
       "5    | 2\n",
       "10   | 1\n",
       "15   | 0"
      ]
     },
     "execution_count": 17,
     "metadata": {},
     "output_type": "execute_result"
    }
   ],
   "source": [
    "bins = np.arange(0, 20, 5) # make an array with values [0, 5, 10, 15]\n",
    "example_tbl.bin(\"price\", bins = bins)"
   ]
  },
  {
   "cell_type": "markdown",
   "metadata": {},
   "source": [
    "What did `tbl.bin` do? First, we created an array of 4 values from 0 to 15 that each correspond to the left end of a bin. In the first bin, there are 4 entries of `fruits` with prices that are between 0 and 5 (not inclusive of 5). In the second bin, there are 2 entries with prices between 5 and 10 (not inclusive of 10), and so on. The binned table will display the number of counts (number of occurrences) within each bin."
   ]
  },
  {
   "cell_type": "markdown",
   "metadata": {
    "deletable": false,
    "editable": false
   },
   "source": [
    "**Question 2.2**:  Now that you have an understanding of how to group values of a table into bins, let's use `tbl.bin` to group the prices into 50 equally spaced bins from \\\\$0 to \\\\$1000. Store this in a new table called `boston_pre_demand_binned`, with the column `price` representing the left end for each price bin and the column `quantity` representing the amount of nights transacted at that corresponding price bin.\n",
    "\n",
    "*Hint*: Using `np.arange`, how large should each step size be?\n",
    "\n",
    "<!--\n",
    "BEGIN QUESTION\n",
    "name: q2_2\n",
    "points: 2\n",
    "-->"
   ]
  },
  {
   "cell_type": "code",
   "execution_count": 18,
   "metadata": {
    "cell_id": "00008-4bbcdc8d-4bb7-48d1-b872-2e4b8e49c132",
    "tags": []
   },
   "outputs": [
    {
     "data": {
      "text/html": [
       "<table border=\"1\" class=\"dataframe\">\n",
       "    <thead>\n",
       "        <tr>\n",
       "            <th>price</th> <th>quantity</th>\n",
       "        </tr>\n",
       "    </thead>\n",
       "    <tbody>\n",
       "        <tr>\n",
       "            <td>0    </td> <td>0       </td>\n",
       "        </tr>\n",
       "        <tr>\n",
       "            <td>20   </td> <td>0       </td>\n",
       "        </tr>\n",
       "        <tr>\n",
       "            <td>40   </td> <td>0       </td>\n",
       "        </tr>\n",
       "        <tr>\n",
       "            <td>60   </td> <td>4       </td>\n",
       "        </tr>\n",
       "        <tr>\n",
       "            <td>80   </td> <td>50      </td>\n",
       "        </tr>\n",
       "        <tr>\n",
       "            <td>100  </td> <td>68      </td>\n",
       "        </tr>\n",
       "        <tr>\n",
       "            <td>120  </td> <td>277     </td>\n",
       "        </tr>\n",
       "        <tr>\n",
       "            <td>140  </td> <td>502     </td>\n",
       "        </tr>\n",
       "        <tr>\n",
       "            <td>160  </td> <td>457     </td>\n",
       "        </tr>\n",
       "        <tr>\n",
       "            <td>180  </td> <td>318     </td>\n",
       "        </tr>\n",
       "    </tbody>\n",
       "</table>\n",
       "<p>... (41 rows omitted)</p>"
      ],
      "text/plain": [
       "price | quantity\n",
       "0     | 0\n",
       "20    | 0\n",
       "40    | 0\n",
       "60    | 4\n",
       "80    | 50\n",
       "100   | 68\n",
       "120   | 277\n",
       "140   | 502\n",
       "160   | 457\n",
       "180   | 318\n",
       "... (41 rows omitted)"
      ]
     },
     "execution_count": 18,
     "metadata": {},
     "output_type": "execute_result"
    }
   ],
   "source": [
    "bins = np.arange(0, 1001, 20)\n",
    "boston_pre_demand_binned = boston_pre_demand.bin('price', bins=bins)\n",
    "boston_pre_demand_binned = boston_pre_demand_binned.relabeled(\"bin\", 'price')\n",
    "boston_pre_demand_binned = boston_pre_demand_binned.relabeled('price count', 'quantity')\n",
    "boston_pre_demand_binned"
   ]
  },
  {
   "cell_type": "code",
   "execution_count": 19,
   "metadata": {
    "deletable": false,
    "editable": false
   },
   "outputs": [
    {
     "data": {
      "text/html": [
       "<p><strong><pre style='display: inline;'>q2_2</pre></strong> passed!</p>"
      ],
      "text/plain": [
       "q2_2 results: All test cases passed!"
      ]
     },
     "execution_count": 19,
     "metadata": {},
     "output_type": "execute_result"
    }
   ],
   "source": [
    "grader.check(\"q2_2\")"
   ]
  },
  {
   "cell_type": "markdown",
   "metadata": {
    "cell_id": "00026-9ccf9d69-36ac-4b3d-a7e1-ceddc012d85c",
    "tags": []
   },
   "source": [
    "Let's create a scatter plot of price and quantity to visualize the relationship."
   ]
  },
  {
   "cell_type": "code",
   "execution_count": 20,
   "metadata": {
    "cell_id": "00011-492a6e0d-d697-41ae-95b1-bf2eba609ed2",
    "tags": []
   },
   "outputs": [
    {
     "data": {
      "image/png": "[encoded data removed]",
      "text/plain": [
       "<Figure size 360x360 with 1 Axes>"
      ]
     },
     "metadata": {
      "needs_background": "light"
     },
     "output_type": "display_data"
    }
   ],
   "source": [
    "boston_pre_demand_binned.scatter(\"quantity\", \"price\")\n",
    "plt.xlabel('quantity')\n",
    "plt.ylabel('price');"
   ]
  },
  {
   "cell_type": "markdown",
   "metadata": {
    "cell_id": "00028-9a4e0f42-8ef9-4f65-932e-fd85973241ab",
    "tags": []
   },
   "source": [
    "Is this the demand curve? \n",
    "\n",
    "Although the plot may look like it exhibits a downward sloping relationship between price and quantity, this is not the actual demand curve. What this scatter plot shows is the price at which rentals were booked and the quantity of bookings at those *specific* prices. **It does not show the total amount of bookings that would be demanded at those prices.**\n",
    "\n",
    "For example, at the price of \\\\$60, everyone who has paid a higher amount would still demand and gladly book a rental at that lower price. So the quantity demanded at \\\\$60 is all the people who paid \\\\$60 or more. Similarly, the quantity demanded at \\\\$80 should be all the people who paid \\\\$80 or more. \n",
    "\n",
    "Consider the following toy example. Suppose we observe the following transactions:\n",
    "    \n",
    "| Price Transacted | Quantity Transacted |\n",
    "|------------------|---------------------|\n",
    "| 1                | 2                   |\n",
    "| 2                | 3                   |\n",
    "| 3                | 1                   |\n",
    "| 4                | 0                   |\n",
    "\n",
    "The quantity demanded would be as follows:\n",
    "\n",
    "| Price Transacted | Quantity Demanded   |\n",
    "|------------------|---------------------|\n",
    "| 1                | 6                   |\n",
    "| 2                | 4                   |\n",
    "| 3                | 1                   |\n",
    "| 4                | 0                   |\n",
    "\n",
    "\n",
    "Note that we've assumed all units are the same and equally interchangeable. We attempted in part 1 to restrict our analysis to units that were more similar, but this approach is far from perfect."
   ]
  },
  {
   "cell_type": "markdown",
   "metadata": {
    "deletable": false,
    "editable": false
   },
   "source": [
    "**Question 2.3:** Create a new column called `quantity_demanded` to show the quantity demanded at a given price and add it to the table `boston_pre_demand_binned`.\n",
    "\n",
    "_Hint:_ Yoy may need to use the function [`np.flip`](https://numpy.org/doc/stable/reference/generated/numpy.flip.html)  (which reverses the array) and [`np.cumsum`](https://numpy.org/doc/stable/reference/generated/numpy.cumsum.html) to construct the `quantity_demanded` array. Make sure to double check that your code would work on the toy example above!\n",
    "\n",
    "<!--\n",
    "BEGIN QUESTION\n",
    "name: q2_3\n",
    "points: 3\n",
    "-->"
   ]
  },
  {
   "cell_type": "code",
   "execution_count": 21,
   "metadata": {
    "cell_id": "00009-927e025d-325b-444e-8c8b-95b3bd9f9689",
    "tags": []
   },
   "outputs": [
    {
     "data": {
      "text/html": [
       "<table border=\"1\" class=\"dataframe\">\n",
       "    <thead>\n",
       "        <tr>\n",
       "            <th>price</th> <th>quantity</th> <th>quantity_demanded</th>\n",
       "        </tr>\n",
       "    </thead>\n",
       "    <tbody>\n",
       "        <tr>\n",
       "            <td>0    </td> <td>0       </td> <td>9912             </td>\n",
       "        </tr>\n",
       "        <tr>\n",
       "            <td>20   </td> <td>0       </td> <td>9912             </td>\n",
       "        </tr>\n",
       "        <tr>\n",
       "            <td>40   </td> <td>0       </td> <td>9912             </td>\n",
       "        </tr>\n",
       "        <tr>\n",
       "            <td>60   </td> <td>4       </td> <td>9912             </td>\n",
       "        </tr>\n",
       "        <tr>\n",
       "            <td>80   </td> <td>50      </td> <td>9908             </td>\n",
       "        </tr>\n",
       "        <tr>\n",
       "            <td>100  </td> <td>68      </td> <td>9858             </td>\n",
       "        </tr>\n",
       "        <tr>\n",
       "            <td>120  </td> <td>277     </td> <td>9790             </td>\n",
       "        </tr>\n",
       "        <tr>\n",
       "            <td>140  </td> <td>502     </td> <td>9513             </td>\n",
       "        </tr>\n",
       "        <tr>\n",
       "            <td>160  </td> <td>457     </td> <td>9011             </td>\n",
       "        </tr>\n",
       "        <tr>\n",
       "            <td>180  </td> <td>318     </td> <td>8554             </td>\n",
       "        </tr>\n",
       "    </tbody>\n",
       "</table>\n",
       "<p>... (41 rows omitted)</p>"
      ],
      "text/plain": [
       "price | quantity | quantity_demanded\n",
       "0     | 0        | 9912\n",
       "20    | 0        | 9912\n",
       "40    | 0        | 9912\n",
       "60    | 4        | 9912\n",
       "80    | 50       | 9908\n",
       "100   | 68       | 9858\n",
       "120   | 277      | 9790\n",
       "140   | 502      | 9513\n",
       "160   | 457      | 9011\n",
       "180   | 318      | 8554\n",
       "... (41 rows omitted)"
      ]
     },
     "execution_count": 21,
     "metadata": {},
     "output_type": "execute_result"
    }
   ],
   "source": [
    "quantity_demanded = np.flip(np.cumsum(np.flip(boston_pre_demand_binned.column('quantity'))))\n",
    "boston_pre_demand_binned = boston_pre_demand_binned.with_column('quantity_demanded', quantity_demanded)\n",
    "boston_pre_demand_binned"
   ]
  },
  {
   "cell_type": "code",
   "execution_count": 22,
   "metadata": {
    "deletable": false,
    "editable": false
   },
   "outputs": [
    {
     "data": {
      "text/html": [
       "<p><strong><pre style='display: inline;'>q2_3</pre></strong> passed!</p>"
      ],
      "text/plain": [
       "q2_3 results: All test cases passed!"
      ]
     },
     "execution_count": 22,
     "metadata": {},
     "output_type": "execute_result"
    }
   ],
   "source": [
    "grader.check(\"q2_3\")"
   ]
  },
  {
   "cell_type": "markdown",
   "metadata": {
    "cell_id": "00030-85bcf6f8-0022-4063-9284-17afa863d953",
    "tags": []
   },
   "source": [
    "Let's plot the demand curve. "
   ]
  },
  {
   "cell_type": "code",
   "execution_count": 23,
   "metadata": {
    "cell_id": "00010-8c640ac2-b2ca-4f76-b58a-32a8f2e47e20",
    "tags": []
   },
   "outputs": [
    {
     "data": {
      "image/png": "[encoded data removed]",
      "text/plain": [
       "<Figure size 432x432 with 1 Axes>"
      ]
     },
     "metadata": {
      "needs_background": "light"
     },
     "output_type": "display_data"
    }
   ],
   "source": [
    "boston_pre_demand_binned.plot(\"quantity_demanded\", \"price\")\n",
    "plt.xlabel('quantity')\n",
    "plt.ylabel('price');"
   ]
  },
  {
   "cell_type": "markdown",
   "metadata": {},
   "source": [
    "Now it's time to find a linear equation for the demand curve."
   ]
  },
  {
   "cell_type": "markdown",
   "metadata": {
    "deletable": false,
    "editable": false
   },
   "source": [
    "**Question 2.4.1**: Determine the demand curve, expressed as quantity in terms of price, using `np.polyfit`. Assign the values `demand_slope` and `demand_intercept` to their respective values.\n",
    "\n",
    "<!--\n",
    "BEGIN QUESTION\n",
    "name: q2_4_1\n",
    "points: 2\n",
    "-->"
   ]
  },
  {
   "cell_type": "code",
   "execution_count": 24,
   "metadata": {
    "scrolled": true
   },
   "outputs": [
    {
     "name": "stdout",
     "output_type": "stream",
     "text": [
      "The demand slope is: -11.690425339366517\n",
      "The demand intercept is: 9465.918552036195\n"
     ]
    }
   ],
   "source": [
    "demand_params = np.polyfit(boston_pre_demand_binned.column('price'),boston_pre_demand_binned.column('quantity_demanded'), 1)\n",
    "demand_slope = demand_params.item(0)\n",
    "demand_intercept = demand_params.item(1)\n",
    "\n",
    "print(\"The demand slope is:\", demand_slope)\n",
    "print(\"The demand intercept is:\", demand_intercept)"
   ]
  },
  {
   "cell_type": "code",
   "execution_count": 25,
   "metadata": {
    "deletable": false,
    "editable": false
   },
   "outputs": [
    {
     "data": {
      "text/html": [
       "<p><strong><pre style='display: inline;'>q2_4_1</pre></strong> passed!</p>"
      ],
      "text/plain": [
       "q2_4_1 results: All test cases passed!"
      ]
     },
     "execution_count": 25,
     "metadata": {},
     "output_type": "execute_result"
    }
   ],
   "source": [
    "grader.check(\"q2_4_1\")"
   ]
  },
  {
   "cell_type": "markdown",
   "metadata": {
    "deletable": false,
    "editable": false
   },
   "source": [
    "<!-- BEGIN QUESTION -->\n",
    "\n",
    "**Question 2.4.2**: Interpret the slope and intercept terms of the demand curve. It may be also helpful to represent quantity as a function of price as well.\n",
    "\n",
    "<!--\n",
    "BEGIN QUESTION\n",
    "name: q2_4_2\n",
    "manual: true\n",
    "-->"
   ]
  },
  {
   "cell_type": "markdown",
   "metadata": {},
   "source": [
    "The slope of this demand curve is -11.690425339366517 and the y-intercept is 9465.918552036195. This means that as the price increases by 1 unit, we can expect the demand to decrease by -11.690425339366517 units."
   ]
  },
  {
   "cell_type": "markdown",
   "metadata": {
    "deletable": false,
    "editable": false
   },
   "source": [
    "<!-- END QUESTION -->\n",
    "\n",
    "**Question 2.5**: Now let's construct a formula for the demand curve. We will express the demand curve as quantity expressed in terms of price. Using SymPy, create a symbol `P` and assign `demand` to the demand curve using the slope and intercept values from above.\n",
    "\n",
    "<!--\n",
    "BEGIN QUESTION\n",
    "name: q2_5\n",
    "-->"
   ]
  },
  {
   "cell_type": "code",
   "execution_count": 26,
   "metadata": {
    "cell_id": "00033-9c357b62-6e7c-4c92-ab4c-3f886185b428",
    "tags": []
   },
   "outputs": [
    {
     "data": {
      "image/png": "[encoded data removed]",
      "text/latex": [
       "$\\displaystyle 9465.9185520362 - 11.6904253393665 P$"
      ],
      "text/plain": [
       "9465.9185520362 - 11.6904253393665⋅P"
      ]
     },
     "execution_count": 26,
     "metadata": {},
     "output_type": "execute_result"
    }
   ],
   "source": [
    "P = sympy.Symbol(\"P\")\n",
    "demand = -11.690425339366517*P + 9465.918552036195\n",
    "demand"
   ]
  },
  {
   "cell_type": "code",
   "execution_count": 27,
   "metadata": {
    "deletable": false,
    "editable": false
   },
   "outputs": [
    {
     "data": {
      "text/html": [
       "<p><strong><pre style='display: inline;'>q2_5</pre></strong> passed!</p>"
      ],
      "text/plain": [
       "q2_5 results: All test cases passed!"
      ]
     },
     "execution_count": 27,
     "metadata": {},
     "output_type": "execute_result"
    }
   ],
   "source": [
    "grader.check(\"q2_5\")"
   ]
  },
  {
   "cell_type": "markdown",
   "metadata": {
    "deletable": false,
    "editable": false
   },
   "source": [
    "**Question 2.6**: Using the log-log formula, determine the price elasticity for demand and assign it to the variable `demand_elasticity`. You may assume that the price elasticity is constant. Make sure to use the table `boston_demand_log`, which takes out the first and last rows of the previous table.\n",
    "\n",
    "<!--\n",
    "BEGIN QUESTION\n",
    "name: q2_6\n",
    "points: 2\n",
    "-->"
   ]
  },
  {
   "cell_type": "code",
   "execution_count": 28,
   "metadata": {},
   "outputs": [
    {
     "data": {
      "text/plain": [
       "0.3627134008461806"
      ]
     },
     "execution_count": 28,
     "metadata": {},
     "output_type": "execute_result"
    }
   ],
   "source": [
    "# This will take out the first and last row of the table, which are 0's and cannot be log transformed properly\n",
    "boston_demand_log = boston_pre_demand_binned.take(np.arange(1, boston_pre_demand_binned.num_rows - 1))\n",
    "\n",
    "log_price = np.log(boston_demand_log.column('price'))\n",
    "log_quantity = np.log(boston_demand_log.column('quantity_demanded'))\n",
    "\n",
    "\n",
    "\n",
    "demand_elasticity = (log_quantity.item(48)-log_quantity.item(0)/log_quantity.item(0))/(log_price.item(48)-log_price.item(0)/log_price.item(0))\n",
    "demand_elasticity\n"
   ]
  },
  {
   "cell_type": "code",
   "execution_count": 29,
   "metadata": {
    "deletable": false,
    "editable": false
   },
   "outputs": [
    {
     "data": {
      "text/html": [
       "<p><strong><pre style='display: inline;'>q2_6</pre></strong> passed!</p>"
      ],
      "text/plain": [
       "q2_6 results: All test cases passed!"
      ]
     },
     "execution_count": 29,
     "metadata": {},
     "output_type": "execute_result"
    }
   ],
   "source": [
    "grader.check(\"q2_6\")"
   ]
  },
  {
   "cell_type": "markdown",
   "metadata": {
    "deletable": false,
    "editable": false
   },
   "source": [
    "<!-- BEGIN QUESTION -->\n",
    "\n",
    "**Question 2.7**: Is the price elasticity of demand for Airbnb's elastic or inelastic? Given that the price elasticity for demand of hotels is relatively inelastic<sup>1</sup>, does this align with our intuition?\n",
    "\n",
    "<!--\n",
    "BEGIN QUESTION\n",
    "name: q2_7\n",
    "manual: true\n",
    "-->"
   ]
  },
  {
   "cell_type": "markdown",
   "metadata": {},
   "source": [
    "The price elasticity of demand for Airbnb is 0.3627134008461806 which is less than 1 and thus, inelastic. This aligns with the intuition we developed from the price elasticity for demand of hotels."
   ]
  },
  {
   "cell_type": "markdown",
   "metadata": {
    "cell_id": "00012-681ba0b6-6e6b-4a98-a76f-dac21dc473aa",
    "tags": []
   },
   "source": [
    "<!-- END QUESTION -->\n",
    "\n",
    "\n",
    "\n",
    "## Constructing the Supply Curve"
   ]
  },
  {
   "cell_type": "markdown",
   "metadata": {},
   "source": [
    "With our demand curve completed, we can now move onto the supply curve. You'll find that this procedure is going to similar to the one you've just completed above. "
   ]
  },
  {
   "cell_type": "markdown",
   "metadata": {
    "cell_id": "00036-17c43b8b-e771-4092-b71f-194e3866877a",
    "deletable": false,
    "editable": false,
    "tags": []
   },
   "source": [
    "<!-- BEGIN QUESTION -->\n",
    "\n",
    "**Question 3.1**: To build the supply curve, we will use the entire `boston_pre` table instead of just the values where `master_key` is equal to 2. Why does the data used to construct the supply and demand curves differ?\n",
    "\n",
    "<!--\n",
    "BEGIN QUESTION\n",
    "name: q3_1\n",
    "manual: true\n",
    "-->"
   ]
  },
  {
   "cell_type": "markdown",
   "metadata": {},
   "source": [
    "Since we are looking to build a supply curve, we are interested in the entire inventory, or supply, of Boston Airbnb's regardless of whether or not then were booked, or demanded."
   ]
  },
  {
   "cell_type": "markdown",
   "metadata": {
    "cell_id": "00037-6f2fab63-27a0-4a4d-aa77-e82ee12318ad",
    "deletable": false,
    "editable": false,
    "tags": []
   },
   "source": [
    "<!-- END QUESTION -->\n",
    "\n",
    "**Question 3.2**: With the same bins as demand above, use `tbl.bin` to group the prices in `boston_pre` into 50 equally spaced bins from \\\\$0 to \\\\$1000. Store this in a new table called `boston_pre_supply_binned`, with the column `price` representing the left end for each price bin and the column `quantity` representing the amount of nights supplied at that corresponding price bin.\n",
    "\n",
    "**You should use the same bins as in Question 2.2.**\n",
    "\n",
    "<!--\n",
    "BEGIN QUESTION\n",
    "name: q3_2\n",
    "points: 2\n",
    "-->"
   ]
  },
  {
   "cell_type": "code",
   "execution_count": 30,
   "metadata": {},
   "outputs": [
    {
     "data": {
      "text/html": [
       "<table border=\"1\" class=\"dataframe\">\n",
       "    <thead>\n",
       "        <tr>\n",
       "            <th>price</th> <th>quantity</th>\n",
       "        </tr>\n",
       "    </thead>\n",
       "    <tbody>\n",
       "        <tr>\n",
       "            <td>0    </td> <td>0       </td>\n",
       "        </tr>\n",
       "        <tr>\n",
       "            <td>20   </td> <td>0       </td>\n",
       "        </tr>\n",
       "        <tr>\n",
       "            <td>40   </td> <td>0       </td>\n",
       "        </tr>\n",
       "        <tr>\n",
       "            <td>60   </td> <td>25      </td>\n",
       "        </tr>\n",
       "        <tr>\n",
       "            <td>80   </td> <td>195     </td>\n",
       "        </tr>\n",
       "        <tr>\n",
       "            <td>100  </td> <td>232     </td>\n",
       "        </tr>\n",
       "        <tr>\n",
       "            <td>120  </td> <td>485     </td>\n",
       "        </tr>\n",
       "        <tr>\n",
       "            <td>140  </td> <td>835     </td>\n",
       "        </tr>\n",
       "        <tr>\n",
       "            <td>160  </td> <td>775     </td>\n",
       "        </tr>\n",
       "        <tr>\n",
       "            <td>180  </td> <td>662     </td>\n",
       "        </tr>\n",
       "    </tbody>\n",
       "</table>\n",
       "<p>... (41 rows omitted)</p>"
      ],
      "text/plain": [
       "price | quantity\n",
       "0     | 0\n",
       "20    | 0\n",
       "40    | 0\n",
       "60    | 25\n",
       "80    | 195\n",
       "100   | 232\n",
       "120   | 485\n",
       "140   | 835\n",
       "160   | 775\n",
       "180   | 662\n",
       "... (41 rows omitted)"
      ]
     },
     "execution_count": 30,
     "metadata": {},
     "output_type": "execute_result"
    }
   ],
   "source": [
    "bins = np.arange(0, 1001, 20)\n",
    "boston_pre_supply_binned = boston_pre.bin(\"price\", bins=bins)\n",
    "boston_pre_supply_binned = boston_pre_supply_binned.relabeled(\"bin\", \"price\")\n",
    "boston_pre_supply_binned = boston_pre_supply_binned.relabeled(\"price count\", \"quantity\")\n",
    "boston_pre_supply_binned"
   ]
  },
  {
   "cell_type": "code",
   "execution_count": 31,
   "metadata": {
    "deletable": false,
    "editable": false
   },
   "outputs": [
    {
     "data": {
      "text/html": [
       "<p><strong><pre style='display: inline;'>q3_2</pre></strong> passed!</p>"
      ],
      "text/plain": [
       "q3_2 results: All test cases passed!"
      ]
     },
     "execution_count": 31,
     "metadata": {},
     "output_type": "execute_result"
    }
   ],
   "source": [
    "grader.check(\"q3_2\")"
   ]
  },
  {
   "cell_type": "code",
   "execution_count": 32,
   "metadata": {},
   "outputs": [
    {
     "data": {
      "image/png": "[encoded data removed]",
      "text/plain": [
       "<Figure size 360x360 with 1 Axes>"
      ]
     },
     "metadata": {
      "needs_background": "light"
     },
     "output_type": "display_data"
    }
   ],
   "source": [
    "boston_pre_supply_binned.scatter(\"quantity\", \"price\")\n",
    "plt.xlabel('quantity')\n",
    "plt.ylabel('price');"
   ]
  },
  {
   "cell_type": "markdown",
   "metadata": {},
   "source": [
    "This isn't the supply curve, yet. The scatter plot shows the price at which rentals were offered and the quantity of offerings *specifically* at those prices. \n",
    "\n",
    "The total supply at any given price includes all the suppliers willing to offer at the price. \n",
    "For example, the supplier offering at \\\\$60 would gladly take \\\\$80. \n",
    "Thus, that host should be included in the quantity supplied at \\$80.\n"
   ]
  },
  {
   "cell_type": "markdown",
   "metadata": {
    "deletable": false,
    "editable": false
   },
   "source": [
    "**Question 3.3**: Create a new column called `quantity_supplied` to show the actual quantity supplied at a given price and add it to the table `boston_pre_supply_binned`.\n",
    "\n",
    "_Hint:_ You will need to use `np.cumsum` here as in Question 2.3, but do you need `np.flip`...?\n",
    "\n",
    "<!--\n",
    "BEGIN QUESTION\n",
    "name: q3_3\n",
    "points: 2\n",
    "-->"
   ]
  },
  {
   "cell_type": "code",
   "execution_count": 33,
   "metadata": {
    "cell_id": "00019-8b1b4ee2-8066-4adc-b874-afe1104249a8",
    "tags": []
   },
   "outputs": [
    {
     "data": {
      "text/html": [
       "<table border=\"1\" class=\"dataframe\">\n",
       "    <thead>\n",
       "        <tr>\n",
       "            <th>price</th> <th>quantity</th> <th>quantity_supplied</th>\n",
       "        </tr>\n",
       "    </thead>\n",
       "    <tbody>\n",
       "        <tr>\n",
       "            <td>0    </td> <td>0       </td> <td>0                </td>\n",
       "        </tr>\n",
       "        <tr>\n",
       "            <td>20   </td> <td>0       </td> <td>0                </td>\n",
       "        </tr>\n",
       "        <tr>\n",
       "            <td>40   </td> <td>0       </td> <td>0                </td>\n",
       "        </tr>\n",
       "        <tr>\n",
       "            <td>60   </td> <td>25      </td> <td>25               </td>\n",
       "        </tr>\n",
       "        <tr>\n",
       "            <td>80   </td> <td>195     </td> <td>220              </td>\n",
       "        </tr>\n",
       "        <tr>\n",
       "            <td>100  </td> <td>232     </td> <td>452              </td>\n",
       "        </tr>\n",
       "        <tr>\n",
       "            <td>120  </td> <td>485     </td> <td>937              </td>\n",
       "        </tr>\n",
       "        <tr>\n",
       "            <td>140  </td> <td>835     </td> <td>1772             </td>\n",
       "        </tr>\n",
       "        <tr>\n",
       "            <td>160  </td> <td>775     </td> <td>2547             </td>\n",
       "        </tr>\n",
       "        <tr>\n",
       "            <td>180  </td> <td>662     </td> <td>3209             </td>\n",
       "        </tr>\n",
       "    </tbody>\n",
       "</table>\n",
       "<p>... (41 rows omitted)</p>"
      ],
      "text/plain": [
       "price | quantity | quantity_supplied\n",
       "0     | 0        | 0\n",
       "20    | 0        | 0\n",
       "40    | 0        | 0\n",
       "60    | 25       | 25\n",
       "80    | 195      | 220\n",
       "100   | 232      | 452\n",
       "120   | 485      | 937\n",
       "140   | 835      | 1772\n",
       "160   | 775      | 2547\n",
       "180   | 662      | 3209\n",
       "... (41 rows omitted)"
      ]
     },
     "execution_count": 33,
     "metadata": {},
     "output_type": "execute_result"
    }
   ],
   "source": [
    "quantity_supplied = np.cumsum(boston_pre_supply_binned.column('quantity'))\n",
    "boston_pre_supply_binned = boston_pre_supply_binned.with_columns('quantity_supplied', quantity_supplied)\n",
    "boston_pre_supply_binned"
   ]
  },
  {
   "cell_type": "code",
   "execution_count": 34,
   "metadata": {
    "deletable": false,
    "editable": false
   },
   "outputs": [
    {
     "data": {
      "text/html": [
       "<p><strong><pre style='display: inline;'>q3_3</pre></strong> passed!</p>"
      ],
      "text/plain": [
       "q3_3 results: All test cases passed!"
      ]
     },
     "execution_count": 34,
     "metadata": {},
     "output_type": "execute_result"
    }
   ],
   "source": [
    "grader.check(\"q3_3\")"
   ]
  },
  {
   "cell_type": "markdown",
   "metadata": {
    "cell_id": "00045-f67f6bdd-4263-411c-b6ad-1ed126b3cb92",
    "deletable": false,
    "editable": false,
    "tags": []
   },
   "source": [
    "<!-- BEGIN QUESTION -->\n",
    "\n",
    "**Question 3.4**: Plot the supply curve using a line plot.\n",
    "\n",
    "<!--\n",
    "BEGIN QUESTION\n",
    "name: q3_4\n",
    "manual: true\n",
    "-->"
   ]
  },
  {
   "cell_type": "code",
   "execution_count": 35,
   "metadata": {
    "cell_id": "00020-f7be1ffc-0134-4251-bc4b-60abd1c63bb8",
    "tags": []
   },
   "outputs": [
    {
     "data": {
      "image/png": "[encoded data removed]",
      "text/plain": [
       "<Figure size 432x432 with 1 Axes>"
      ]
     },
     "metadata": {
      "needs_background": "light"
     },
     "output_type": "display_data"
    }
   ],
   "source": [
    "boston_pre_supply_binned.plot('quantity_supplied', 'price')\n",
    "plt.xlabel('quantity')\n",
    "plt.ylabel('price');"
   ]
  },
  {
   "cell_type": "markdown",
   "metadata": {
    "cell_id": "00049-3058049c-31c1-40e7-9716-969d73bed054",
    "deletable": false,
    "editable": false,
    "tags": []
   },
   "source": [
    "<!-- END QUESTION -->\n",
    "\n",
    "**Question 3.5**: Using `np.polyfit` assign the values `supply_slope` and `supply_intercept` to their respective values.\n",
    "\n",
    "<!--\n",
    "BEGIN QUESTION\n",
    "name: q3_5\n",
    "points: 2\n",
    "-->"
   ]
  },
  {
   "cell_type": "code",
   "execution_count": 36,
   "metadata": {
    "cell_id": "00050-23d1e216-fe28-440e-aa41-1217c1adfb59",
    "tags": []
   },
   "outputs": [
    {
     "name": "stdout",
     "output_type": "stream",
     "text": [
      "The supply slope is: 23.170036199095023\n",
      "The supply intercept is: 1196.217194570135\n"
     ]
    }
   ],
   "source": [
    "supply_params = np.polyfit(boston_pre_supply_binned.column('price'), boston_pre_supply_binned.column('quantity_supplied'),1)\n",
    "supply_slope = supply_params.item(0)\n",
    "supply_intercept = supply_params.item(1)\n",
    "\n",
    "print(\"The supply slope is:\", supply_slope)\n",
    "print(\"The supply intercept is:\", supply_intercept)"
   ]
  },
  {
   "cell_type": "code",
   "execution_count": 37,
   "metadata": {
    "deletable": false,
    "editable": false
   },
   "outputs": [
    {
     "data": {
      "text/html": [
       "<p><strong><pre style='display: inline;'>q3_5</pre></strong> passed!</p>"
      ],
      "text/plain": [
       "q3_5 results: All test cases passed!"
      ]
     },
     "execution_count": 37,
     "metadata": {},
     "output_type": "execute_result"
    }
   ],
   "source": [
    "grader.check(\"q3_5\")"
   ]
  },
  {
   "cell_type": "markdown",
   "metadata": {
    "deletable": false,
    "editable": false
   },
   "source": [
    "**Question 3.6**: Using SymPy, construct a formula for the supply curve and store it to `supply`. Make sure to use the same symbol `P` as in Question 2.5!\n",
    "\n",
    "<!--\n",
    "BEGIN QUESTION\n",
    "name: q3_6\n",
    "-->"
   ]
  },
  {
   "cell_type": "code",
   "execution_count": 38,
   "metadata": {},
   "outputs": [
    {
     "data": {
      "image/png": "[encoded data removed]",
      "text/latex": [
       "$\\displaystyle 23.170036199095 P + 1196.21719457014$"
      ],
      "text/plain": [
       "23.170036199095⋅P + 1196.21719457014"
      ]
     },
     "execution_count": 38,
     "metadata": {},
     "output_type": "execute_result"
    }
   ],
   "source": [
    "supply = 23.170036199095023*P+1196.217194570135\n",
    "supply"
   ]
  },
  {
   "cell_type": "code",
   "execution_count": 39,
   "metadata": {
    "deletable": false,
    "editable": false
   },
   "outputs": [
    {
     "data": {
      "text/html": [
       "<p><strong><pre style='display: inline;'>q3_6</pre></strong> passed!</p>"
      ],
      "text/plain": [
       "q3_6 results: All test cases passed!"
      ]
     },
     "execution_count": 39,
     "metadata": {},
     "output_type": "execute_result"
    }
   ],
   "source": [
    "grader.check(\"q3_6\")"
   ]
  },
  {
   "cell_type": "markdown",
   "metadata": {
    "deletable": false,
    "editable": false
   },
   "source": [
    "**Question 3.7**: Using the log-log formula, determine the price elasticity for supply and assign it to the variable `supply_elasticity`. You may assume that the price elasticity is constant. Make sure to use the table `boston_supply_log`. \n",
    "\n",
    "<!--\n",
    "BEGIN QUESTION\n",
    "name: q3_7\n",
    "points: 2\n",
    "-->"
   ]
  },
  {
   "cell_type": "code",
   "execution_count": 40,
   "metadata": {},
   "outputs": [
    {
     "data": {
      "text/plain": [
       "1.5063552670518359"
      ]
     },
     "execution_count": 40,
     "metadata": {},
     "output_type": "execute_result"
    }
   ],
   "source": [
    "# This will take out the rows that feature 0's and cannot be log transformed properly\n",
    "boston_supply_log = boston_pre_supply_binned.take(np.arange(3, boston_pre_demand_binned.num_rows))\n",
    "\n",
    "log_price = np.log(boston_supply_log.column('price'))\n",
    "log_quantity = np.log(boston_supply_log.column('quantity_supplied'))\n",
    "\n",
    "supply_elasticity = (log_quantity.item(47)-log_quantity.item(0)/log_quantity.item(0))/(log_price.item(47)-log_price.item(0)/log_price.item(0))\n",
    "supply_elasticity"
   ]
  },
  {
   "cell_type": "code",
   "execution_count": 41,
   "metadata": {
    "deletable": false,
    "editable": false
   },
   "outputs": [
    {
     "data": {
      "text/html": [
       "<p><strong><pre style='display: inline;'>q3_7</pre></strong> passed!</p>"
      ],
      "text/plain": [
       "q3_7 results: All test cases passed!"
      ]
     },
     "execution_count": 41,
     "metadata": {},
     "output_type": "execute_result"
    }
   ],
   "source": [
    "grader.check(\"q3_7\")"
   ]
  },
  {
   "cell_type": "markdown",
   "metadata": {
    "deletable": false,
    "editable": false
   },
   "source": [
    "<!-- BEGIN QUESTION -->\n",
    "\n",
    "**Question 3.8**: Is supply elastic or inelastic? How does it compare to the price elasticity of demand?\n",
    "\n",
    "<!--\n",
    "BEGIN QUESTION\n",
    "name: q3_8\n",
    "manual: true\n",
    "-->"
   ]
  },
  {
   "cell_type": "markdown",
   "metadata": {},
   "source": [
    "The price elasticity of supply is 1.5063552670518359, and since this is greather than 1 we consider this elastic. This is much higher than demand which makes sense considering people often have their homes on airbnb to make money while people's desire or necessity to travel is rather consistent."
   ]
  },
  {
   "cell_type": "markdown",
   "metadata": {},
   "source": [
    "<!-- END QUESTION -->\n",
    "\n",
    "\n",
    "\n",
    "## Solving for Equilibria"
   ]
  },
  {
   "cell_type": "markdown",
   "metadata": {
    "cell_id": "00052-0aaa1db2-1b56-4433-9d48-d1c61e772e7d",
    "tags": []
   },
   "source": [
    "Now that we have both the demand and supply curves, we are able to determine the equilibrium. The equilibrium point denotes the total amount of units that would be transacted in the market and its associated price level. "
   ]
  },
  {
   "cell_type": "markdown",
   "metadata": {
    "deletable": false,
    "editable": false
   },
   "source": [
    "**Question 4.1**: Use the `solve` function provided to find the price equilibrium value and assign it to `P_star`. We also recommend that you write out and solve the algebra by hand to double check your work. \n",
    "\n",
    "<!--\n",
    "BEGIN QUESTION\n",
    "name: q4_1\n",
    "-->"
   ]
  },
  {
   "cell_type": "code",
   "execution_count": 42,
   "metadata": {
    "cell_id": "00053-ac13593c-6d2c-4a0e-8b33-d1ec4e843511",
    "tags": []
   },
   "outputs": [
    {
     "data": {
      "image/png": "[encoded data removed]",
      "text/latex": [
       "$\\displaystyle 237.222945208058$"
      ],
      "text/plain": [
       "237.222945208058"
      ]
     },
     "execution_count": 42,
     "metadata": {},
     "output_type": "execute_result"
    }
   ],
   "source": [
    "P_star = solve(supply,demand)\n",
    "P_star"
   ]
  },
  {
   "cell_type": "code",
   "execution_count": 43,
   "metadata": {
    "deletable": false,
    "editable": false
   },
   "outputs": [
    {
     "data": {
      "text/html": [
       "<p><strong><pre style='display: inline;'>q4_1</pre></strong> passed!</p>"
      ],
      "text/plain": [
       "q4_1 results: All test cases passed!"
      ]
     },
     "execution_count": 43,
     "metadata": {},
     "output_type": "execute_result"
    }
   ],
   "source": [
    "grader.check(\"q4_1\")"
   ]
  },
  {
   "cell_type": "markdown",
   "metadata": {
    "cell_id": "00055-533814b6-5760-4cb8-8826-4d6d1aa579a9",
    "deletable": false,
    "editable": false,
    "tags": []
   },
   "source": [
    "**Question 4.2**: Determine the quantity equilibrium value and assign it to `Q_star`. \n",
    "\n",
    "<!--\n",
    "BEGIN QUESTION\n",
    "name: q4_2\n",
    "-->"
   ]
  },
  {
   "cell_type": "code",
   "execution_count": 44,
   "metadata": {
    "cell_id": "00056-1a25877e-9c3b-4a87-9720-50aa8ac235ca",
    "tags": []
   },
   "outputs": [
    {
     "data": {
      "image/png": "[encoded data removed]",
      "text/latex": [
       "$\\displaystyle 237.222945208058$"
      ],
      "text/plain": [
       "237.222945208058"
      ]
     },
     "execution_count": 44,
     "metadata": {},
     "output_type": "execute_result"
    }
   ],
   "source": [
    "Q_star = solve(supply,demand)\n",
    "Q_star"
   ]
  },
  {
   "cell_type": "code",
   "execution_count": 45,
   "metadata": {
    "deletable": false,
    "editable": false
   },
   "outputs": [
    {
     "data": {
      "text/html": [
       "<p><strong><pre style='display: inline;'>q4_2</pre></strong> passed!</p>"
      ],
      "text/plain": [
       "q4_2 results: All test cases passed!"
      ]
     },
     "execution_count": 45,
     "metadata": {},
     "output_type": "execute_result"
    }
   ],
   "source": [
    "grader.check(\"q4_2\")"
   ]
  },
  {
   "cell_type": "markdown",
   "metadata": {
    "cell_id": "00047-0cb070fe-dd1e-45ba-800a-0e59c8213574",
    "tags": []
   },
   "source": [
    "Let's look that both the curves in the same plot."
   ]
  },
  {
   "cell_type": "code",
   "execution_count": 46,
   "metadata": {
    "cell_id": "00022-c3213d54-ca09-412f-a833-215280624ad4",
    "tags": []
   },
   "outputs": [
    {
     "data": {
      "image/png": "[encoded data removed]",
      "text/plain": [
       "<Figure size 600x400 with 1 Axes>"
      ]
     },
     "metadata": {
      "needs_background": "light"
     },
     "output_type": "display_data"
    }
   ],
   "source": [
    "plt.figure(dpi=100)\n",
    "plt.plot(\n",
    "    boston_pre_demand_binned.column(\"quantity_demanded\"), \n",
    "    boston_pre_demand_binned.column(\"price\"), color = 'red', \n",
    "    label = 'demand curve')\n",
    "plt.plot(\n",
    "    boston_pre_supply_binned.column(\"quantity_supplied\"), \n",
    "    boston_pre_supply_binned.column(\"price\"), \n",
    "    label = 'supply curve')\n",
    "plt.xlabel('quantity')\n",
    "plt.ylabel('price')\n",
    "plt.legend();"
   ]
  },
  {
   "cell_type": "markdown",
   "metadata": {
    "cell_id": "00049-9538570b-500b-4280-9ccf-bfa20024345a",
    "tags": []
   },
   "source": [
    "Why do these curves look different than the normal linear supply and demand curves in the textbook? It's because in the textbook we've made a vastly simplifying assumptions that supply and demand curves are linear in nature. This would imply that, no matter at what price, a price decrease by \\\\$1 would change the amount supplied or demanded by the same amount. \n",
    "\n",
    "Is this intuitively true? Probably not. For example, a \\\\$1 decrease from \\\\$100 is trivial compared to a \\\\$1 decrease from an original price of \\\\$2. As humans, we think about changes as proportions, and this fact should be reflected in the supply and demand curves. What this implies is that these curves should be exponential in nature: at higher prices, a larger change in price will yield the same change quantity as compared to that in lower prices. \n",
    "\n",
    "Your curves above should look somewhat exponential, which aligns with this intuition!\n",
    "\n",
    "Another caveat: our results show a kind of 'local' effect and may not necessarily be generalizable to all Airbnb units everywhere. Recall that from our filters in part 1, our market only describes goods that are Airbnb stays in entire homes/apartments that occurred on the weekend over during the early summer months of 2019 (pre-July). "
   ]
  },
  {
   "cell_type": "markdown",
   "metadata": {},
   "source": [
    "## Introducing a Tax"
   ]
  },
  {
   "cell_type": "markdown",
   "metadata": {},
   "source": [
    "As a popular alternative to hotels, Airbnb has become subject to occupancy taxes in cities around the world. These taxes are applied to short term lodgings and are typically enforced by local or state governments in the United States. Proponents of the tax argue that existing rules that apply to hotels should also be enforced for Airbnb. Opponents instead argue that these laws do not apply to services created out of excess capacity, and the tax would stifle innovation and growth in the industry<sup>2</sup>.\n",
    "\n",
    "In the week following Christmas in 2018, Massachusetts governor Charlie Baker signed into law *An Act Regulating and Insuring Short-Term Rentals*, which imposed a 14.95% excise tax to short term rental bookings in Boston, beginning on July 1st 2019.\n",
    "\n",
    "The image below of an Airbnb in Boston shows guests a cost breakdown of their stay right before booking a listing, including the different taxes that comprise the \"occupancy taxes and fees\" section. You do not need to worry about what these different types of taxes mean; the main takeaway here is that the total tax of \\\\$44 is roughly 14.95% of the cost (including service and cleaning fees), and is paid by the guest on booking. \n",
    "\n",
    "<img src=\"airbnb_booking.png\" alt=\"drawing\" width=\"600\"/>\n"
   ]
  },
  {
   "cell_type": "markdown",
   "metadata": {
    "deletable": false,
    "editable": false
   },
   "source": [
    "**Question 5.1**: Which party bears the statutory incidence of the tax?\n",
    "\n",
    "<ol style=\"list-style-type: lower-alpha;\">\n",
    "    <li>the hosts (producers)</li>\n",
    "    <li>the guests (consumers)</li>\n",
    "    <li>Airbnb (platform)</li>\n",
    "</ol>\n",
    "\n",
    "Assign `statutory_incidence` to the letter corresponding to your answer.\n",
    "\n",
    "<!--\n",
    "BEGIN QUESTION\n",
    "name: q5_1\n",
    "points:\n",
    "    - 0\n",
    "    - 1\n",
    "-->"
   ]
  },
  {
   "cell_type": "code",
   "execution_count": 47,
   "metadata": {},
   "outputs": [],
   "source": [
    "statutory_incidence = 'b'"
   ]
  },
  {
   "cell_type": "code",
   "execution_count": 48,
   "metadata": {
    "deletable": false,
    "editable": false
   },
   "outputs": [
    {
     "data": {
      "text/html": [
       "<p><strong><pre style='display: inline;'>q5_1</pre></strong> passed!</p>"
      ],
      "text/plain": [
       "q5_1 results: All test cases passed!"
      ]
     },
     "execution_count": 48,
     "metadata": {},
     "output_type": "execute_result"
    }
   ],
   "source": [
    "grader.check(\"q5_1\")"
   ]
  },
  {
   "cell_type": "markdown",
   "metadata": {
    "deletable": false,
    "editable": false
   },
   "source": [
    "**Question 5.2**: Based on the price elasticities of supply and demand we have calculated above, would we expect the economic incidence of the tax to be:\n",
    "\n",
    "<ol style=\"list-style-type: lower-alpha;\">\n",
    "    <li>Largely bore by producers</li>\n",
    "    <li>Largely bore by consumers</li>\n",
    "    <li>Roughly equally bore by producers and consumers</li>\n",
    "</ol>\n",
    "\n",
    "Assign `economic_incidence` to the letter corresponding to your answer.\n",
    "\n",
    "*Hint*: Refer back to the elasticities you calculated earlier in Questions 2.6 and 3.8\n",
    "\n",
    "<!--\n",
    "BEGIN QUESTION\n",
    "name: q5_2\n",
    "points:\n",
    "    - 0\n",
    "    - 1\n",
    "-->"
   ]
  },
  {
   "cell_type": "code",
   "execution_count": 49,
   "metadata": {},
   "outputs": [],
   "source": [
    "economic_incidence = 'a'"
   ]
  },
  {
   "cell_type": "code",
   "execution_count": 50,
   "metadata": {
    "deletable": false,
    "editable": false
   },
   "outputs": [
    {
     "data": {
      "text/html": [
       "<p><strong><pre style='display: inline;'>q5_2</pre></strong> passed!</p>"
      ],
      "text/plain": [
       "q5_2 results: All test cases passed!"
      ]
     },
     "execution_count": 50,
     "metadata": {},
     "output_type": "execute_result"
    }
   ],
   "source": [
    "grader.check(\"q5_2\")"
   ]
  },
  {
   "cell_type": "markdown",
   "metadata": {},
   "source": [
    "Now we will calculate the demand curve post-tax. You may notice that this procedure yields a similar table as the one in section 2."
   ]
  },
  {
   "cell_type": "code",
   "execution_count": 51,
   "metadata": {},
   "outputs": [
    {
     "data": {
      "text/html": [
       "<table border=\"1\" class=\"dataframe\">\n",
       "    <thead>\n",
       "        <tr>\n",
       "            <th>price</th> <th>quantity</th> <th>quantity_demanded</th>\n",
       "        </tr>\n",
       "    </thead>\n",
       "    <tbody>\n",
       "        <tr>\n",
       "            <td>0    </td> <td>0       </td> <td>28462            </td>\n",
       "        </tr>\n",
       "        <tr>\n",
       "            <td>20   </td> <td>132     </td> <td>28462            </td>\n",
       "        </tr>\n",
       "        <tr>\n",
       "            <td>40   </td> <td>1105    </td> <td>28330            </td>\n",
       "        </tr>\n",
       "        <tr>\n",
       "            <td>60   </td> <td>2537    </td> <td>27225            </td>\n",
       "        </tr>\n",
       "        <tr>\n",
       "            <td>80   </td> <td>1059    </td> <td>24688            </td>\n",
       "        </tr>\n",
       "        <tr>\n",
       "            <td>100  </td> <td>1307    </td> <td>23629            </td>\n",
       "        </tr>\n",
       "        <tr>\n",
       "            <td>120  </td> <td>1305    </td> <td>22322            </td>\n",
       "        </tr>\n",
       "        <tr>\n",
       "            <td>140  </td> <td>1654    </td> <td>21017            </td>\n",
       "        </tr>\n",
       "        <tr>\n",
       "            <td>160  </td> <td>1158    </td> <td>19363            </td>\n",
       "        </tr>\n",
       "        <tr>\n",
       "            <td>180  </td> <td>1522    </td> <td>18205            </td>\n",
       "        </tr>\n",
       "    </tbody>\n",
       "</table>\n",
       "<p>... (41 rows omitted)</p>"
      ],
      "text/plain": [
       "price | quantity | quantity_demanded\n",
       "0     | 0        | 28462\n",
       "20    | 132      | 28462\n",
       "40    | 1105     | 28330\n",
       "60    | 2537     | 27225\n",
       "80    | 1059     | 24688\n",
       "100   | 1307     | 23629\n",
       "120   | 1305     | 22322\n",
       "140   | 1654     | 21017\n",
       "160   | 1158     | 19363\n",
       "180   | 1522     | 18205\n",
       "... (41 rows omitted)"
      ]
     },
     "execution_count": 51,
     "metadata": {},
     "output_type": "execute_result"
    }
   ],
   "source": [
    "boston_post = boston.where(\"month\", are.above(6))\n",
    "boston_post_demand = boston_post.where('master_key', are.equal_to(2))\n",
    "boston_post_demand_binned = boston_post_demand.bin(\"price\", bins=bins)\n",
    "boston_post_demand_binned = boston_post_demand_binned.relabeled('bin', 'price')\n",
    "boston_post_demand_binned = boston_post_demand_binned.relabeled('price count', 'quantity')\n",
    "quantity_demanded = np.flip(np.cumsum(np.flip(boston_post_demand_binned.column(\"quantity\"))))\n",
    "boston_post_demand_binned = boston_post_demand_binned.with_column(\"quantity_demanded\", quantity_demanded)\n",
    "boston_post_demand_binned"
   ]
  },
  {
   "cell_type": "markdown",
   "metadata": {},
   "source": [
    "Let's plot both demand curves, pre and post tax, with the pre-tax supply curve. For this project, to simplify our assumptions we'll assume that the supply curve does not change due to the tax. "
   ]
  },
  {
   "cell_type": "code",
   "execution_count": 52,
   "metadata": {},
   "outputs": [
    {
     "data": {
      "image/png": "[encoded data removed]",
      "text/plain": [
       "<Figure size 600x400 with 1 Axes>"
      ]
     },
     "metadata": {
      "needs_background": "light"
     },
     "output_type": "display_data"
    }
   ],
   "source": [
    "plt.figure(dpi=100)\n",
    "plt.plot(\n",
    "    boston_pre_demand_binned.column(\"quantity_demanded\"), \n",
    "    boston_pre_demand_binned.column(\"price\"), \n",
    "    label = \"pre-tax demand\")\n",
    "plt.plot(\n",
    "    boston_post_demand_binned.column(\"quantity_demanded\"), \n",
    "    boston_post_demand_binned.column(\"price\"), \n",
    "    label = \"post-tax demand\")\n",
    "plt.plot(\n",
    "    boston_pre_supply_binned.column(\"quantity_supplied\"), \n",
    "    boston_post_demand_binned.column(\"price\"), \n",
    "    label = \"supply\")\n",
    "plt.xlabel('quantity')\n",
    "plt.ylabel('price')\n",
    "plt.legend();"
   ]
  },
  {
   "cell_type": "markdown",
   "metadata": {},
   "source": [
    "Tada! This is the 'big reveal': the graph above shows the effects of an occupancy tax in Boston."
   ]
  },
  {
   "cell_type": "markdown",
   "metadata": {
    "deletable": false,
    "editable": false
   },
   "source": [
    "<!-- BEGIN QUESTION -->\n",
    "\n",
    "**Question 5.3**: From our analysis, is it effective for the government to tax short-term rentals? Provide brief justification with your answer.\n",
    "\n",
    "*Hint*: there is no correct answer or approach here. One approach could be to look at the graph above and to estimate the economic impact of such a tax. Another approach could be to examine the elasticities of demand and/or supply.\n",
    "\n",
    "<!--\n",
    "BEGIN QUESTION\n",
    "name: q5_3\n",
    "manual: true\n",
    "-->"
   ]
  },
  {
   "cell_type": "markdown",
   "metadata": {},
   "source": [
    "It appears that the effect on the tax grows as price goes down and quantity increases, cutting the total quantity demanded almost in half.  The effectiveness of the tax depends on what goals the government has. If they simply want less people renting short-term rentals it is certainly effective. I am curious as to whether or not people began booking hotels more with the decline in Airbnb rentals, or if the city as a whole saw a decrease in visitors because of the tax."
   ]
  },
  {
   "cell_type": "markdown",
   "metadata": {
    "deletable": false,
    "editable": false
   },
   "source": [
    "<!-- END QUESTION -->\n",
    "\n",
    "<!-- BEGIN QUESTION -->\n",
    "\n",
    "**Question 5.4**: Describe 3 potential sources of error in our overall analysis. Please be concise, each source of error should not be more than one or two sentences in length.\n",
    "\n",
    "<!--\n",
    "BEGIN QUESTION\n",
    "name: q5_4\n",
    "manual: true\n",
    "-->"
   ]
  },
  {
   "cell_type": "markdown",
   "metadata": {},
   "source": [
    "1) Looking only at entire homes and apartments could cause some potential error in our analysis considering the people who can afford those rooms are most likely to go back to hotels, while the people booking rooms in shared housing might be on a lower budget and have no other option. The tax may have had no effect on the demand by them.\n",
    "\n",
    "2) Since the tax came into effect in July we arent taking seasonal shifts in demand into consideration. There could be more attractive events and reasons to travel to boston before July and less after July which could influence our analysis.\n",
    "\n",
    "3) Our analysis also left out any bookings which did not occur on Fridays or Saturdays. This leave out missing data for during the week travelers which may be more consistent in traveling since it could be for work rather than weekend travelers who are most likely visiting for leisure."
   ]
  },
  {
   "cell_type": "markdown",
   "metadata": {
    "cell_id": "00048-ef7bf07f-b3bf-4345-a81c-5db2391c2ac9",
    "tags": []
   },
   "source": [
    "<!-- END QUESTION -->\n",
    "\n",
    "\n",
    "\n",
    "**Congratulations! You finished Project 1!**\n",
    "\n",
    "---\n",
    "\n",
    "### References\n",
    "\n",
    "<sup>1</sup> https://www.sciencedirect.com/science/article/abs/pii/0010880492900309\n",
    "\n",
    "<sup>2</sup> Wilking, 2016 *HOTEL TAX INCIDENCE WITH HETEROGENEOUS FIRM EVASION : EVIDENCE FROM AIRBNB REMITTANCE AGREEMENTS*\n",
    "\n",
    "<sup>3</sup> https://www.patriotledger.com/news/20191204/new-rental-tax-expected-to-generate-275-million-in-revenue"
   ]
  },
  {
   "cell_type": "markdown",
   "metadata": {
    "deletable": false,
    "editable": false
   },
   "source": [
    "---\n",
    "\n",
    "To double-check your work, the cell below will rerun all of the autograder tests."
   ]
  },
  {
   "cell_type": "code",
   "execution_count": 53,
   "metadata": {
    "deletable": false,
    "editable": false
   },
   "outputs": [
    {
     "data": {
      "text/plain": [
       "q1_1 results: All test cases passed!\n",
       "\n",
       "q1_2 results: All test cases passed!\n",
       "\n",
       "q1_3 results: All test cases passed!\n",
       "\n",
       "q1_5 results: All test cases passed!\n",
       "\n",
       "q2_1 results: All test cases passed!\n",
       "\n",
       "q2_2 results: All test cases passed!\n",
       "\n",
       "q2_3 results: All test cases passed!\n",
       "\n",
       "q2_4_1 results: All test cases passed!\n",
       "\n",
       "q2_5 results: All test cases passed!\n",
       "\n",
       "q2_6 results: All test cases passed!\n",
       "\n",
       "q3_2 results: All test cases passed!\n",
       "\n",
       "q3_3 results: All test cases passed!\n",
       "\n",
       "q3_5 results: All test cases passed!\n",
       "\n",
       "q3_6 results: All test cases passed!\n",
       "\n",
       "q3_7 results: All test cases passed!\n",
       "\n",
       "q4_1 results: All test cases passed!\n",
       "\n",
       "q4_2 results: All test cases passed!\n",
       "\n",
       "q5_1 results: All test cases passed!\n",
       "\n",
       "q5_2 results: All test cases passed!"
      ]
     },
     "execution_count": 53,
     "metadata": {},
     "output_type": "execute_result"
    }
   ],
   "source": [
    "grader.check_all()"
   ]
  },
  {
   "cell_type": "markdown",
   "metadata": {
    "deletable": false,
    "editable": false
   },
   "source": [
    "## Submission\n",
    "\n",
    "Make sure you have run all cells in your notebook in order before running the cell below, so that all images/graphs appear in the output. The cell below will generate a zip file for you to submit. **Please save before exporting!**"
   ]
  },
  {
   "cell_type": "code",
   "execution_count": 54,
   "metadata": {
    "deletable": false,
    "editable": false
   },
   "outputs": [
    {
     "data": {
      "text/html": [
       "\n",
       "            <p>Your submission has been exported. Click <a href=\"proj01_2022_02_18T16_10_41_535698.zip\" download=\"proj01_2022_02_18T16_10_41_535698.zip\" target=\"_blank\">here</a>\n",
       "            to download the zip file.</p>\n",
       "            "
      ],
      "text/plain": [
       "<IPython.core.display.HTML object>"
      ]
     },
     "metadata": {},
     "output_type": "display_data"
    }
   ],
   "source": [
    "# Save your notebook first, then run this cell to export your submission.\n",
    "grader.export(pdf=False)"
   ]
  },
  {
   "cell_type": "markdown",
   "metadata": {},
   "source": [
    " "
   ]
  }
 ],
 "metadata": {
  "deepnote_execution_queue": [],
  "deepnote_notebook_id": "95551afa-1c6a-4ed2-b51c-6edc5d56ff55",
  "kernelspec": {
   "display_name": "Python 3 (ipykernel)",
   "language": "python",
   "name": "python3"
  },
  "language_info": {
   "codemirror_mode": {
    "name": "ipython",
    "version": 3
   },
   "file_extension": ".py",
   "mimetype": "text/x-python",
   "name": "python",
   "nbconvert_exporter": "python",
   "pygments_lexer": "ipython3",
   "version": "3.9.10"
  }
 },
 "nbformat": 4,
 "nbformat_minor": 4
}
